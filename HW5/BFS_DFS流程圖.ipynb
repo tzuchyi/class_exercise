{
 "cells": [
  {
   "cell_type": "markdown",
   "metadata": {},
   "source": [
    "# 流程圖"
   ]
  },
  {
   "cell_type": "markdown",
   "metadata": {},
   "source": [
    "![](https://i.imgur.com/1tQ25rB.jpg)"
   ]
  },
  {
   "cell_type": "markdown",
   "metadata": {},
   "source": [
    "![](https://i.imgur.com/qtVsfDo.jpg)"
   ]
  },
  {
   "cell_type": "markdown",
   "metadata": {},
   "source": [
    "# 心路歷程"
   ]
  },
  {
   "cell_type": "markdown",
   "metadata": {},
   "source": [
    "### BFS"
   ]
  },
  {
   "cell_type": "markdown",
   "metadata": {},
   "source": [
    "首先解答目前是空白， 然後這裡設置一個暫時的空間，裡面先放置第一個起始點。  \n",
    "因為是先進先出，所以這裡pop第0個數，並將他放入解，只要他相鄰且沒有出現在解裡則放入暫時空間。  \n",
    "直到跑完所有樹且都以放進解裡為止。"
   ]
  },
  {
   "cell_type": "code",
   "execution_count": null,
   "metadata": {},
   "outputs": [],
   "source": [
    "def BFS(self, s): \n",
    "        \n",
    "        ans=[]\n",
    "        temp=[s]\n",
    "     \n",
    "\n",
    "        \n",
    "        while len(temp)>0 :\n",
    "            \n",
    "            out=temp.pop(0)\n",
    "            ans.append(out)\n",
    "            \n",
    "            \n",
    "            for i in self.graph[out]:\n",
    "                if i not in ans:\n",
    "                    temp.append(i)\n",
    "\n",
    "                    \n",
    "        return ans"
   ]
  },
  {
   "cell_type": "markdown",
   "metadata": {},
   "source": [
    "### DFS"
   ]
  },
  {
   "cell_type": "markdown",
   "metadata": {},
   "source": [
    "DFS我做超快，我完全複製BFS的內容，只更改了一個數字。  \n",
    "BFS是先進先出，DFS先進後出，所以我只將要拿掉的樹原本從第零個，更改到最後一個即完成了。"
   ]
  },
  {
   "cell_type": "code",
   "execution_count": null,
   "metadata": {},
   "outputs": [],
   "source": [
    "def DFS(self, s):\n",
    "        \n",
    "        ans=[]\n",
    "        temp=[s]\n",
    "      \n",
    "\n",
    "        \n",
    "        while len(temp)>0 :\n",
    "            \n",
    "            out=temp.pop(-1)\n",
    "            ans.append(out)\n",
    "            \n",
    "            \n",
    "            for i in self.graph[out]:\n",
    "                if i not in ans:\n",
    "                    temp.append(i)\n",
    "\n",
    "                    \n",
    "        return ans\n",
    "                "
   ]
  },
  {
   "cell_type": "code",
   "execution_count": 107,
   "metadata": {},
   "outputs": [],
   "source": [
    "\n",
    "from collections import defaultdict \n",
    "\n",
    "class Graph:\n",
    "\n",
    "    def __init__(self): \n",
    "\n",
    "        self.graph = defaultdict(list) \n",
    "\n",
    "    def addEdge(self,u,v): \n",
    "        self.graph[u].append(v) \n",
    "  \n",
    "    def BFS(self, s): \n",
    "        \n",
    "        ans=[]\n",
    "        temp=[s]\n",
    "        exsist=set(\"s\")\n",
    "     \n",
    "\n",
    "        \n",
    "        while len(temp)>0 :\n",
    "            \n",
    "            out=temp.pop(0)\n",
    "            ans.append(out)\n",
    "            \n",
    "            \n",
    "            for i in self.graph[out]:\n",
    "                if i not in ans and i not in exsist:\n",
    "                    temp.append(i)\n",
    "                    exsist.add(i)\n",
    "\n",
    "                    \n",
    "        return ans\n",
    "                \n",
    "                \n",
    "                \n",
    "    def DFS(self, s):\n",
    "        \n",
    "        ans=[]\n",
    "        temp=[s]\n",
    "        exsist=set(\"s\")\n",
    "      \n",
    "\n",
    "        \n",
    "        while len(temp)>0 :\n",
    "            \n",
    "            out=temp.pop(-1)\n",
    "            ans.append(out)\n",
    "            \n",
    "            \n",
    "            for i in self.graph[out]:\n",
    "                if i not in ans and i not in exsist:\n",
    "                    temp.append(i)\n",
    "                    exsist.add(i)\n",
    "\n",
    "                    \n",
    "        return ans\n",
    "                \n",
    "        "
   ]
  },
  {
   "cell_type": "markdown",
   "metadata": {},
   "source": [
    "## 測資"
   ]
  },
  {
   "cell_type": "code",
   "execution_count": 108,
   "metadata": {},
   "outputs": [],
   "source": [
    "g=Graph()\n",
    "g.addEdge(0,1)\n",
    "g.addEdge(0,2)\n",
    "g.addEdge(1,2)\n",
    "g.addEdge(2,0)\n",
    "g.addEdge(2,3)\n",
    "g.addEdge(3,3)"
   ]
  },
  {
   "cell_type": "code",
   "execution_count": 109,
   "metadata": {},
   "outputs": [
    {
     "data": {
      "text/plain": [
       "[2, 0, 3, 1]"
      ]
     },
     "execution_count": 109,
     "metadata": {},
     "output_type": "execute_result"
    }
   ],
   "source": [
    "g.BFS(2)"
   ]
  },
  {
   "cell_type": "code",
   "execution_count": 110,
   "metadata": {},
   "outputs": [
    {
     "data": {
      "text/plain": [
       "[2, 3, 0, 1]"
      ]
     },
     "execution_count": 110,
     "metadata": {},
     "output_type": "execute_result"
    }
   ],
   "source": [
    "g.DFS(2)"
   ]
  },
  {
   "cell_type": "code",
   "execution_count": 111,
   "metadata": {},
   "outputs": [],
   "source": [
    "g=Graph()\n",
    "\n",
    "g.addEdge(1,2)\n",
    "g.addEdge(1,3)\n",
    "\n",
    "g.addEdge(2,4)\n",
    "g.addEdge(2,5)\n",
    "g.addEdge(3,6)\n",
    "\n",
    "\n",
    "g.addEdge(4,1)\n",
    "g.addEdge(4,3)\n",
    "g.addEdge(6,5)\n",
    "g.addEdge(5,5)"
   ]
  },
  {
   "cell_type": "code",
   "execution_count": 112,
   "metadata": {},
   "outputs": [
    {
     "data": {
      "text/plain": [
       "[1, 2, 3, 4, 5, 6]"
      ]
     },
     "execution_count": 112,
     "metadata": {},
     "output_type": "execute_result"
    }
   ],
   "source": [
    "g.BFS(1)"
   ]
  },
  {
   "cell_type": "code",
   "execution_count": 113,
   "metadata": {},
   "outputs": [
    {
     "data": {
      "text/plain": [
       "[1, 3, 6, 5, 2, 4]"
      ]
     },
     "execution_count": 113,
     "metadata": {},
     "output_type": "execute_result"
    }
   ],
   "source": [
    "g.DFS(1)"
   ]
  },
  {
   "cell_type": "code",
   "execution_count": 114,
   "metadata": {},
   "outputs": [],
   "source": [
    "g=Graph()\n",
    "\n",
    "g.addEdge(1,2)\n",
    "g.addEdge(1,3)\n",
    "g.addEdge(2,3)\n",
    "g.addEdge(2,1)\n",
    "g.addEdge(3,1)\n",
    "g.addEdge(3,2)\n"
   ]
  },
  {
   "cell_type": "code",
   "execution_count": 115,
   "metadata": {},
   "outputs": [
    {
     "data": {
      "text/plain": [
       "[1, 2, 3]"
      ]
     },
     "execution_count": 115,
     "metadata": {},
     "output_type": "execute_result"
    }
   ],
   "source": [
    "g.BFS(1)"
   ]
  },
  {
   "cell_type": "code",
   "execution_count": 116,
   "metadata": {},
   "outputs": [
    {
     "data": {
      "text/plain": [
       "[1, 3, 2]"
      ]
     },
     "execution_count": 116,
     "metadata": {},
     "output_type": "execute_result"
    }
   ],
   "source": [
    "g.DFS(1)"
   ]
  },
  {
   "cell_type": "markdown",
   "metadata": {},
   "source": [
    "## 學了一些東西"
   ]
  },
  {
   "cell_type": "markdown",
   "metadata": {},
   "source": [
    "這邊在測試我原有一行判別式為 list!=None，怎麼寫都有error，原來list本來就不能為布林值。  \n",
    "所以這裡改為list長度做判斷。"
   ]
  },
  {
   "cell_type": "code",
   "execution_count": 47,
   "metadata": {},
   "outputs": [],
   "source": [
    "k=[]"
   ]
  },
  {
   "cell_type": "code",
   "execution_count": 48,
   "metadata": {},
   "outputs": [
    {
     "data": {
      "text/plain": [
       "False"
      ]
     },
     "execution_count": 48,
     "metadata": {},
     "output_type": "execute_result"
    }
   ],
   "source": [
    "k==None"
   ]
  },
  {
   "cell_type": "markdown",
   "metadata": {},
   "source": [
    "這邊是想嘗試看看字典，以及字典的形式。"
   ]
  },
  {
   "cell_type": "code",
   "execution_count": 13,
   "metadata": {},
   "outputs": [],
   "source": [
    "k={\"1\":\"2,3\",\"2\":\"3,4\"}"
   ]
  },
  {
   "cell_type": "code",
   "execution_count": 14,
   "metadata": {},
   "outputs": [
    {
     "data": {
      "text/plain": [
       "str"
      ]
     },
     "execution_count": 14,
     "metadata": {},
     "output_type": "execute_result"
    }
   ],
   "source": [
    "type(k[\"1\"])"
   ]
  },
  {
   "cell_type": "markdown",
   "metadata": {},
   "source": [
    "這邊在影片中學到集合的用法以及 not in的語法  \n",
    "set為文字"
   ]
  },
  {
   "cell_type": "code",
   "execution_count": 63,
   "metadata": {},
   "outputs": [
    {
     "data": {
      "text/plain": [
       "{'a', 'd', 'f', 's'}"
      ]
     },
     "execution_count": 63,
     "metadata": {},
     "output_type": "execute_result"
    }
   ],
   "source": [
    "set(\"asdf\")"
   ]
  },
  {
   "cell_type": "code",
   "execution_count": 64,
   "metadata": {},
   "outputs": [
    {
     "data": {
      "text/plain": [
       "{'1', '2', '3', '4'}"
      ]
     },
     "execution_count": 64,
     "metadata": {},
     "output_type": "execute_result"
    }
   ],
   "source": [
    "set(\"1234\")"
   ]
  },
  {
   "cell_type": "markdown",
   "metadata": {},
   "source": [
    "## BFS (Breadth-First-Search) \n",
    "廣度優先搜尋, 是從根節點開始，遍歷完畢整張圖，不考慮結果所在的位置， 無論如何都要遍歷完畢整張地圖才終止。  \n",
    "按照就近原則進行， 距離原點相同的節點的訪問順序是相近的。"
   ]
  },
  {
   "cell_type": "markdown",
   "metadata": {},
   "source": [
    "簡單來說這是地毯式搜索，直接從頭搜到尾，先進先出"
   ]
  },
  {
   "cell_type": "markdown",
   "metadata": {},
   "source": [
    "## DFS (Depth-First-Search)\n",
    "深度優先搜尋，是從根節點開始， 逐個訪問每一條路徑， 對於具有多子節點的節點而言，先搜尋到某一條子路的最深處，再逐個回溯前驅節點。"
   ]
  },
  {
   "cell_type": "markdown",
   "metadata": {},
   "source": [
    "簡單來說這就是一條線直直到底，走到底之後回去上一步，再重新走一次不同路，直到所有節點都被走完為止，先進後出"
   ]
  },
  {
   "cell_type": "markdown",
   "metadata": {},
   "source": [
    "## 簡單比較\n",
    "深度搜尋會猛衝亂衝，而廣度搜尋則會耗費太多的記憶體，並且沒有效率，無法很快的找到目標點。"
   ]
  },
  {
   "cell_type": "markdown",
   "metadata": {},
   "source": [
    "# 參考資料"
   ]
  },
  {
   "cell_type": "markdown",
   "metadata": {},
   "source": [
    "原理理解及程式碼參考(語法應用)：  \n",
    "https://www.youtube.com/watch?v=oLtvUWpAnTQ  \n",
    "https://www.youtube.com/watch?v=bD8RT0ub--0   \n",
    "原理比較參考：  \n",
    "https://codertw.com/程式語言/102866/  \n",
    "http://programmermagazine.github.io/201406/htm/focus1.html  "
   ]
  },
  {
   "cell_type": "code",
   "execution_count": null,
   "metadata": {},
   "outputs": [],
   "source": []
  }
 ],
 "metadata": {
  "kernelspec": {
   "display_name": "Python 3",
   "language": "python",
   "name": "python3"
  },
  "language_info": {
   "codemirror_mode": {
    "name": "ipython",
    "version": 3
   },
   "file_extension": ".py",
   "mimetype": "text/x-python",
   "name": "python",
   "nbconvert_exporter": "python",
   "pygments_lexer": "ipython3",
   "version": "3.7.1"
  }
 },
 "nbformat": 4,
 "nbformat_minor": 2
}
