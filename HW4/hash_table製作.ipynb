{
 "cells": [
  {
   "cell_type": "markdown",
   "metadata": {},
   "source": [
    "# 流程圖"
   ]
  },
  {
   "cell_type": "markdown",
   "metadata": {},
   "source": [
    "![](https://i.imgur.com/RZ7gwrv.jpg)"
   ]
  },
  {
   "cell_type": "markdown",
   "metadata": {},
   "source": [
    "# 學習歷程"
   ]
  },
  {
   "cell_type": "markdown",
   "metadata": {},
   "source": [
    "## 前面先看看資料長怎樣"
   ]
  },
  {
   "cell_type": "code",
   "execution_count": null,
   "metadata": {},
   "outputs": [],
   "source": [
    "from Crypto.Hash import MD5"
   ]
  },
  {
   "cell_type": "code",
   "execution_count": 75,
   "metadata": {},
   "outputs": [],
   "source": [
    "h = MD5.new()\n",
    "h.update(\"cat\".encode(\"utf-8\"))\n",
    "keycode = int(h.hexdigest(),16)\n",
    "index = keycode % 5"
   ]
  },
  {
   "cell_type": "code",
   "execution_count": 75,
   "metadata": {},
   "outputs": [],
   "source": [
    "h = MD5.new()\n",
    "h.update(\"cat\".encode(\"utf-8\"))\n",
    "keycode = int(h.hexdigest(),16)\n",
    "index = keycode % 5"
   ]
  },
  {
   "cell_type": "code",
   "execution_count": 77,
   "metadata": {},
   "outputs": [
    {
     "data": {
      "text/plain": [
       "'d077f244def8a70e5ea758bd8352fcd8'"
      ]
     },
     "execution_count": 77,
     "metadata": {},
     "output_type": "execute_result"
    }
   ],
   "source": [
    "h.hexdigest()"
   ]
  },
  {
   "cell_type": "code",
   "execution_count": 76,
   "metadata": {},
   "outputs": [
    {
     "data": {
      "text/plain": [
       "277102220249073555409885156483852860632"
      ]
     },
     "execution_count": 76,
     "metadata": {},
     "output_type": "execute_result"
    }
   ],
   "source": [
    "keycode"
   ]
  },
  {
   "cell_type": "code",
   "execution_count": 22,
   "metadata": {},
   "outputs": [
    {
     "data": {
      "text/plain": [
       "0"
      ]
     },
     "execution_count": 22,
     "metadata": {},
     "output_type": "execute_result"
    }
   ],
   "source": [
    "index"
   ]
  },
  {
   "cell_type": "markdown",
   "metadata": {},
   "source": [
    "## hash function原理"
   ]
  },
  {
   "cell_type": "markdown",
   "metadata": {},
   "source": [
    "這邊順便了解一下hash function的原理。  \n",
    "經過hash function後就會產生一組十六進位的值，然後再將它轉換成平常使用的十進位做表  \n",
    "文字會對應一數值，若丟入相同值會得到同樣的數值\n",
    "通過函式有可能會輸入不同文字卻得到相同數值，這稱作碰撞（collision）  \n",
    "透過取餘數歸類放置。"
   ]
  },
  {
   "cell_type": "markdown",
   "metadata": {},
   "source": [
    "## 以下開始是我的程式碼"
   ]
  },
  {
   "cell_type": "markdown",
   "metadata": {},
   "source": [
    "基本上其實就和linkedlist 和bst很相像"
   ]
  },
  {
   "cell_type": "markdown",
   "metadata": {},
   "source": [
    "### 新增"
   ]
  },
  {
   "cell_type": "markdown",
   "metadata": {},
   "source": [
    "先將輸入的文字轉換成數字，接著將它放入其應放入的箱子。  \n",
    "若原本的箱子已經有人，就以linkedlist的方式放入下一個（.next）"
   ]
  },
  {
   "cell_type": "code",
   "execution_count": null,
   "metadata": {},
   "outputs": [],
   "source": [
    "\n",
    "    def add(self, key):\n",
    "        \n",
    "        h = MD5.new()\n",
    "        h.update(key.encode(\"utf-8\"))\n",
    "        keycode = int(h.hexdigest(),16)\n",
    "        index = keycode % self.capacity\n",
    "        for i in range(self.capacity):\n",
    "            if index==i:\n",
    "                head=self.data[i]\n",
    "                if self.data[i]==None:\n",
    "                    \n",
    "                    self.data[i]=ListNode(key)\n",
    "                else:\n",
    "                    while head.next!=None:\n",
    "                        head=head.next\n",
    "                    head.next.val=key\n",
    "                    "
   ]
  },
  {
   "cell_type": "markdown",
   "metadata": {},
   "source": [
    "### 查詢"
   ]
  },
  {
   "cell_type": "markdown",
   "metadata": {},
   "source": [
    "相比移除，查詢較為簡單，所以我先製作。  \n",
    "只要找到就回傳布林值即可"
   ]
  },
  {
   "cell_type": "code",
   "execution_count": null,
   "metadata": {},
   "outputs": [],
   "source": [
    " def contains(self, key):\n",
    "        \n",
    "        h = MD5.new()\n",
    "        h.update(key.encode(\"utf-8\"))\n",
    "        keycode = int(h.hexdigest(),16)\n",
    "        index = keycode % self.capacity\n",
    "        for i in range(self.capacity):\n",
    "            if index==i:\n",
    "                head=self.data[i]\n",
    "                if self.data[i]==None:\n",
    "                    return False\n",
    "                else:\n",
    "                    while head.val!=key and head.next!=None:\n",
    "                        head=head.next\n",
    "                    if head.val==key:\n",
    "                        return True\n",
    "                    else:\n",
    "                        return False\n",
    "                        "
   ]
  },
  {
   "cell_type": "markdown",
   "metadata": {},
   "source": [
    "### 移除"
   ]
  },
  {
   "cell_type": "markdown",
   "metadata": {},
   "source": [
    "移除就要找到爸爸是誰，讓他沒有小孩或讓他孫子變孩子即可。  \n",
    "這邊有特別探討沒有爸爸的情況下若要刪除，若沒有小孩則變為空值，若有小孩則讓小孩成為頭。"
   ]
  },
  {
   "cell_type": "code",
   "execution_count": null,
   "metadata": {},
   "outputs": [],
   "source": [
    "    def remove(self, key):\n",
    "        h = MD5.new()\n",
    "        h.update(key.encode(\"utf-8\"))\n",
    "        keycode = int(h.hexdigest(),16)\n",
    "        index = keycode % self.capacity\n",
    "        for i in range(self.capacity):\n",
    "            if index==i:\n",
    "                head=self.data[i]\n",
    "                \n",
    "                while head!=None:\n",
    "                    if head.val==key and head.next==None:\n",
    "                        self.data[i]=None\n",
    "                        head=self.data[i]\n",
    "                    elif head.val==key and head.next!=None:\n",
    "                        self.data[i]=head.next\n",
    "                        head=self.data[i]\n",
    "                    else:\n",
    "                        while head.val!=key and head.next!=None:\n",
    "                            dad=head\n",
    "                            head=head.next\n",
    "                        if head.val==key:\n",
    "                            if head.next==None:\n",
    "                                dad.next=None\n",
    "                                head=None\n",
    "                            else:\n",
    "                                dad.next=head.next\n",
    "                                head=dad\n",
    "                        else:\n",
    "                            head=None\n",
    "                        "
   ]
  },
  {
   "cell_type": "markdown",
   "metadata": {},
   "source": [
    "## 以下為我的測資"
   ]
  },
  {
   "cell_type": "code",
   "execution_count": 48,
   "metadata": {},
   "outputs": [],
   "source": [
    "hashSet = MyHashSet()\n",
    "hashSet.add(\"dog\")\n",
    "hashSet.add(\"pig\")\n"
   ]
  },
  {
   "cell_type": "code",
   "execution_count": 86,
   "metadata": {},
   "outputs": [
    {
     "name": "stdout",
     "output_type": "stream",
     "text": [
      "True\n",
      "True\n",
      "False\n",
      "True\n"
     ]
    }
   ],
   "source": [
    "hashSet = MyHashSet(5)\n",
    "hashSet.add(\"dog\")\n",
    "hashSet.add(\"pig\")\n",
    "rel = hashSet.contains(\"pig\")\n",
    "print(rel)\n",
    "rel = hashSet.contains(\"dog\")\n",
    "print(rel)\n",
    "rel = hashSet.contains(\"cat\")\n",
    "print(rel)\n",
    "hashSet.add(\"bird\")\n",
    "rel = hashSet.contains(\"bird\")\n",
    "print(rel)\n"
   ]
  },
  {
   "cell_type": "code",
   "execution_count": 45,
   "metadata": {},
   "outputs": [],
   "source": [
    "f=[None]*5"
   ]
  },
  {
   "cell_type": "code",
   "execution_count": 27,
   "metadata": {},
   "outputs": [
    {
     "data": {
      "text/plain": [
       "[None, None, None, None, None]"
      ]
     },
     "execution_count": 27,
     "metadata": {},
     "output_type": "execute_result"
    }
   ],
   "source": [
    "f"
   ]
  },
  {
   "cell_type": "markdown",
   "metadata": {},
   "source": [
    "這邊是想嘗試看看data長得樣子"
   ]
  },
  {
   "cell_type": "code",
   "execution_count": 108,
   "metadata": {},
   "outputs": [
    {
     "name": "stdout",
     "output_type": "stream",
     "text": [
      "True\n",
      "True\n",
      "False\n",
      "True\n",
      "False\n"
     ]
    }
   ],
   "source": [
    "hashSet = MyHashSet(7)\n",
    "hashSet.add(\"dog\")\n",
    "hashSet.add(\"pig\")\n",
    "rel = hashSet.contains(\"pig\")\n",
    "print(rel)\n",
    "rel = hashSet.contains(\"dog\")\n",
    "print(rel)\n",
    "rel = hashSet.contains(\"cat\")\n",
    "print(rel)\n",
    "hashSet.add(\"bird\")\n",
    "rel = hashSet.contains(\"bird\")\n",
    "print(rel)\n",
    "hashSet.remove(\"pig\")\n",
    "rel=hashSet.contains(\"pig\")\n",
    "print(rel)"
   ]
  },
  {
   "cell_type": "code",
   "execution_count": 103,
   "metadata": {},
   "outputs": [
    {
     "data": {
      "text/plain": [
       "[None,\n",
       " <__main__.ListNode at 0x10daf3080>,\n",
       " <__main__.ListNode at 0x10daf97b8>,\n",
       " None,\n",
       " None,\n",
       " None,\n",
       " None]"
      ]
     },
     "execution_count": 103,
     "metadata": {},
     "output_type": "execute_result"
    }
   ],
   "source": [
    "hashSet.data"
   ]
  },
  {
   "cell_type": "code",
   "execution_count": 111,
   "metadata": {},
   "outputs": [
    {
     "name": "stdout",
     "output_type": "stream",
     "text": [
      "True\n",
      "True\n",
      "False\n",
      "True\n"
     ]
    },
    {
     "data": {
      "text/plain": [
       "False"
      ]
     },
     "execution_count": 111,
     "metadata": {},
     "output_type": "execute_result"
    }
   ],
   "source": [
    "hashSet2 = MyHashSet()\n",
    "hashSet2.add(\"dog\")\n",
    "hashSet2.add(\"pig\")\n",
    "rel = hashSet2.contains(\"pig\")\n",
    "print(rel)\n",
    "rel = hashSet2.contains(\"dog\")\n",
    "print(rel)\n",
    "rel = hashSet2.contains(\"cat\")\n",
    "print(rel)\n",
    "hashSet2.add(\"bird\")\n",
    "rel = hashSet2.contains(\"bird\")\n",
    "print(rel)\n",
    "hashSet2.remove(\"pig\")\n",
    "hashSet2.contains(\"pig\")"
   ]
  },
  {
   "cell_type": "code",
   "execution_count": 112,
   "metadata": {},
   "outputs": [
    {
     "data": {
      "text/plain": [
       "[<__main__.ListNode at 0x10db237b8>,\n",
       " None,\n",
       " None,\n",
       " None,\n",
       " <__main__.ListNode at 0x10db239b0>]"
      ]
     },
     "execution_count": 112,
     "metadata": {},
     "output_type": "execute_result"
    }
   ],
   "source": [
    "hashSet2.data"
   ]
  },
  {
   "cell_type": "markdown",
   "metadata": {},
   "source": [
    "這邊是想嘗試看看原本預設capacity為5，  \n",
    "若將MyHashSet(７)，capacity是否會改變以達到助教之目標。  \n",
    "這邊發現若直接()沒有設定則會為預設值5，若特別寫數字則會改變。"
   ]
  },
  {
   "cell_type": "markdown",
   "metadata": {},
   "source": [
    "基本上我收穫最大的就是我上面那一格的東西。"
   ]
  },
  {
   "cell_type": "markdown",
   "metadata": {},
   "source": [
    "## hash table原理"
   ]
  },
  {
   "cell_type": "markdown",
   "metadata": {},
   "source": [
    "hashtable是利用hash function的值作取餘數歸類擺放。  \n",
    "其優點避免記憶體空間浪費，希望能夠將存放資料的大小降到真正會存放進Table的資料的數量。"
   ]
  },
  {
   "cell_type": "markdown",
   "metadata": {},
   "source": [
    "# 參考資料"
   ]
  },
  {
   "cell_type": "markdown",
   "metadata": {},
   "source": [
    "### 原理及概念上理解：\n",
    "https://zh.wikipedia.org/wiki/散列函數  \n",
    "http://alrightchiu.github.io/SecondRound/hash-tableintrojian-jie.html  \n",
    "https://blog.techbridge.cc/2017/01/21/simple-hash-table-intro/   \n",
    "https://docs.google.com/presentation/d/e/2PACX-1vT1HO9Nl475k2bR0l1x8_Tr4V5Wzx0BEqp9bpmHckvj8kTeJehhYVlOJUDVPhLQm6kjGCJ_sLMSBUw5/pub?start=false&loop=false&delayms=3000&slide=id.p"
   ]
  },
  {
   "cell_type": "markdown",
   "metadata": {},
   "source": [
    "單純只針對概念上做理解，並沒有參考任何程式碼。   \n",
    "如有雷同，單純hashtable本就比較簡單容易相似。  \n",
    "若覺得抄襲，還請您提出其他邏輯提供我學習。"
   ]
  }
 ],
 "metadata": {
  "kernelspec": {
   "display_name": "Python 3",
   "language": "python",
   "name": "python3"
  },
  "language_info": {
   "codemirror_mode": {
    "name": "ipython",
    "version": 3
   },
   "file_extension": ".py",
   "mimetype": "text/x-python",
   "name": "python",
   "nbconvert_exporter": "python",
   "pygments_lexer": "ipython3",
   "version": "3.7.1"
  }
 },
 "nbformat": 4,
 "nbformat_minor": 2
}
