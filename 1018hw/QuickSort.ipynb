{
 "cells": [
  {
   "cell_type": "code",
   "execution_count": 68,
   "metadata": {},
   "outputs": [],
   "source": [
    "def partition(arr,head,tail): \n",
    "    i = head-1      \n",
    "    pivot = arr[tail]   \n",
    "    j=head\n",
    "  \n",
    "    while j <tail:\n",
    "  \n",
    "        if   arr[j] <= pivot: \n",
    "            i = i+1 \n",
    "            arr[i],arr[j] = arr[j],arr[i] #將小於基準點的數字丟至左側\n",
    "        j=j+1\n",
    "            \n",
    "  \n",
    "    arr[i+1],arr[tail] = arr[tail],arr[i+1] #最後將基準點換至正確位子\n",
    "    \n",
    "    return  i+1 #回傳已排序之位置\n",
    "  \n",
    "\n",
    "def quickSort(arr,head,tail): \n",
    "    \n",
    "    if head< tail: \n",
    "  \n",
    "        pi = partition(arr,head,tail) #以已排序之位置的左右兩側再次做排序\n",
    "\n",
    "        quickSort(arr, head, pi-1) \n",
    "        quickSort(arr, pi+1, tail) "
   ]
  },
  {
   "cell_type": "code",
   "execution_count": 69,
   "metadata": {},
   "outputs": [],
   "source": [
    "arr=[3,2,6,7,4,10,8]"
   ]
  },
  {
   "cell_type": "code",
   "execution_count": 70,
   "metadata": {},
   "outputs": [],
   "source": [
    "n=len(arr)"
   ]
  },
  {
   "cell_type": "code",
   "execution_count": 71,
   "metadata": {},
   "outputs": [],
   "source": [
    "quickSort(arr,0,n-1)"
   ]
  },
  {
   "cell_type": "code",
   "execution_count": 72,
   "metadata": {},
   "outputs": [
    {
     "data": {
      "text/plain": [
       "[2, 3, 4, 6, 7, 8, 10]"
      ]
     },
     "execution_count": 72,
     "metadata": {},
     "output_type": "execute_result"
    }
   ],
   "source": [
    "arr"
   ]
  }
 ],
 "metadata": {
  "kernelspec": {
   "display_name": "Python 3",
   "language": "python",
   "name": "python3"
  },
  "language_info": {
   "codemirror_mode": {
    "name": "ipython",
    "version": 3
   },
   "file_extension": ".py",
   "mimetype": "text/x-python",
   "name": "python",
   "nbconvert_exporter": "python",
   "pygments_lexer": "ipython3",
   "version": "3.7.1"
  }
 },
 "nbformat": 4,
 "nbformat_minor": 2
}
