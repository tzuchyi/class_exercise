{
 "cells": [
  {
   "cell_type": "markdown",
   "metadata": {},
   "source": [
    "![merge流程圖](https://i.imgur.com/0X1xZOx.jpg)"
   ]
  },
  {
   "cell_type": "code",
   "execution_count": 127,
   "metadata": {},
   "outputs": [],
   "source": [
    "def comparetwolist(a,b):#先製作一個比較兩數列的工具\n",
    "    c=[]\n",
    "    while len(a)*len(b)!=0:#當兩數列長度相乘不為零，代表裡面都還有元素存在\n",
    "        if a[0]>=b[0]:#如果a的第一個數比較大，就把他加到新的c\n",
    "            c.append(a[0])#再把它拿掉\n",
    "            a.pop(0)\n",
    "        else:#這個是如果b第一個數比較大的情況\n",
    "            c.append(b[0])\n",
    "            b.pop(0)\n",
    "    if len(a)==0:#當a長度為零，直接把剩下的b接進c\n",
    "        c=c+b\n",
    "    else:\n",
    "        c=c+a\n",
    "    return c#最後回傳c"
   ]
  },
  {
   "cell_type": "code",
   "execution_count": 128,
   "metadata": {},
   "outputs": [
    {
     "data": {
      "text/plain": [
       "[10, 9, 9, 8, 6, 5, 1]"
      ]
     },
     "execution_count": 128,
     "metadata": {},
     "output_type": "execute_result"
    }
   ],
   "source": [
    "comparetwolist([9,6,5],[10,9,8,1])#試試看 成功了"
   ]
  },
  {
   "cell_type": "code",
   "execution_count": 15,
   "metadata": {},
   "outputs": [
    {
     "ename": "SyntaxError",
     "evalue": "unexpected EOF while parsing (<ipython-input-15-75ff1bc2f63b>, line 7)",
     "output_type": "error",
     "traceback": [
      "\u001b[0;36m  File \u001b[0;32m\"<ipython-input-15-75ff1bc2f63b>\"\u001b[0;36m, line \u001b[0;32m7\u001b[0m\n\u001b[0;31m    \u001b[0m\n\u001b[0m    ^\u001b[0m\n\u001b[0;31mSyntaxError\u001b[0m\u001b[0;31m:\u001b[0m unexpected EOF while parsing\n"
     ]
    }
   ],
   "source": [
    "def merge_sort(arr):#還沒想好怎麼寫，那先來試試看兩個兩個比較的時候\n",
    "    long=len(arr)\n",
    "    if long%2==0:\n",
    "        for i in range(long//2):\n",
    "            comparetwolist(arr[2*i],arr[2*i+1])\n",
    "    else:\n",
    "        "
   ]
  },
  {
   "cell_type": "code",
   "execution_count": 63,
   "metadata": {},
   "outputs": [],
   "source": [
    "def twotwo(arr):#因為最後要兩個兩個先比較 再變成四個四個比較，那就先來試試看兩個兩個比較看看要怎麼寫\n",
    "    final=[]#這是我最後要丟出來的結果\n",
    "    n=len(arr)#先設定 以後打字比較方便\n",
    "    if len(arr)%2==0:#因為現在是兩個兩個分，所以看有沒有人有落單\n",
    "        for i in range(n//2):#沒有落單的情況\n",
    "            final=final+comparetwolist(arr[2*i:2*i+1],arr[2*i+1:2*i+2]) #每一個人都有朋友可以比較\n",
    "            \n",
    "    else:\n",
    "        for i in range(n//2):#除了最後一個人沒朋友其他人都有朋友\n",
    "            final=final+comparetwolist(arr[2*i:2*i+1],arr[2*i+1:2*i+2])\n",
    "        final.append(arr[-1])#最後把落單的直接合並進最後結果\n",
    "    return final\n",
    "            "
   ]
  },
  {
   "cell_type": "code",
   "execution_count": 64,
   "metadata": {},
   "outputs": [
    {
     "data": {
      "text/plain": [
       "[4, 3, 8, 2, 7]"
      ]
     },
     "execution_count": 64,
     "metadata": {},
     "output_type": "execute_result"
    }
   ],
   "source": [
    "twotwo([3,4,2,8,7])#太好了又成功了"
   ]
  },
  {
   "cell_type": "code",
   "execution_count": 208,
   "metadata": {},
   "outputs": [],
   "source": [
    "def four(arr):#那來試試看四個四個比較\n",
    "    final=[]\n",
    "    n=len(arr)\n",
    "    if len(arr)%4==0:\n",
    "        for i in range(n//4):\n",
    "            final=final+comparetwolist(arr[4*i:4*i+2],arr[4*i+2:4*i+4])#依樣分成有朋友\n",
    "            \n",
    "    else:\n",
    "        for i in range(n//4):\n",
    "            final=final+comparetwolist(arr[4*i:4*i+2],arr[4*i+2:4*i+4])#缺朋友的部分\n",
    "        lost=(n//4)*4\n",
    "        final=final+comparetwolist(arr[lost:lost+2],arr[lost+2:])#剩下的不完全朋友的比較\n",
    "    return final"
   ]
  },
  {
   "cell_type": "code",
   "execution_count": 209,
   "metadata": {},
   "outputs": [
    {
     "data": {
      "text/plain": [
       "[8, 4, 3, 2, 7]"
      ]
     },
     "execution_count": 209,
     "metadata": {},
     "output_type": "execute_result"
    }
   ],
   "source": [
    "four([4,2,8,3,7])"
   ]
  },
  {
   "cell_type": "code",
   "execution_count": 106,
   "metadata": {},
   "outputs": [],
   "source": [
    "def merge_sort(arr):\n",
    "    i=1\n",
    "    while len(arr)%(2**i)>=1:\n",
    "        j=2**i\n",
    "        final=[]\n",
    "        n=len(arr)\n",
    "        if len(arr)%j==0:\n",
    "            for i in range(n//j):\n",
    "                final=final+comparetwolist(arr[j*i:j*i+j/2],arr[j*i+j/2:j*i+j])\n",
    "        else:\n",
    "            for i in range(n//j):\n",
    "                final=final+comparetwolist(arr[j*i:j*i+j/2],arr[j*i+j/2:j*i+j])\n",
    "            lost=(n//j)*j\n",
    "            final=final+arr[lost:]\n",
    "        arr=final\n",
    "        i=i+1\n",
    "    return arr"
   ]
  },
  {
   "cell_type": "code",
   "execution_count": 131,
   "metadata": {},
   "outputs": [],
   "source": [
    "arr=[3,2,4,1,7,8,]"
   ]
  },
  {
   "cell_type": "code",
   "execution_count": 132,
   "metadata": {},
   "outputs": [
    {
     "ename": "TypeError",
     "evalue": "slice indices must be integers or None or have an __index__ method",
     "output_type": "error",
     "traceback": [
      "\u001b[0;31m---------------------------------------------------------------------------\u001b[0m",
      "\u001b[0;31mTypeError\u001b[0m                                 Traceback (most recent call last)",
      "\u001b[0;32m<ipython-input-132-1a51904718f0>\u001b[0m in \u001b[0;36m<module>\u001b[0;34m\u001b[0m\n\u001b[0;32m----> 1\u001b[0;31m \u001b[0mmerge_sort\u001b[0m\u001b[0;34m(\u001b[0m\u001b[0marr\u001b[0m\u001b[0;34m)\u001b[0m\u001b[0;34m\u001b[0m\u001b[0;34m\u001b[0m\u001b[0m\n\u001b[0m",
      "\u001b[0;32m<ipython-input-129-d496dfc37848>\u001b[0m in \u001b[0;36mmerge_sort\u001b[0;34m(arr)\u001b[0m\n\u001b[1;32m     12\u001b[0m             \u001b[0;32mif\u001b[0m \u001b[0;34m(\u001b[0m\u001b[0mn\u001b[0m\u001b[0;34m//\u001b[0m\u001b[0mj\u001b[0m\u001b[0;34m)\u001b[0m\u001b[0;34m*\u001b[0m\u001b[0mj\u001b[0m\u001b[0;34m+\u001b[0m\u001b[0mj\u001b[0m\u001b[0;34m/\u001b[0m\u001b[0;36m2\u001b[0m \u001b[0;34m>\u001b[0m \u001b[0mlen\u001b[0m \u001b[0;34m(\u001b[0m\u001b[0marr\u001b[0m\u001b[0;34m)\u001b[0m\u001b[0;34m-\u001b[0m\u001b[0;36m1\u001b[0m\u001b[0;34m:\u001b[0m\u001b[0;34m\u001b[0m\u001b[0;34m\u001b[0m\u001b[0m\n\u001b[1;32m     13\u001b[0m                 \u001b[0;32mfor\u001b[0m \u001b[0mi\u001b[0m \u001b[0;32min\u001b[0m \u001b[0mrange\u001b[0m\u001b[0;34m(\u001b[0m\u001b[0mn\u001b[0m\u001b[0;34m//\u001b[0m\u001b[0mj\u001b[0m\u001b[0;34m)\u001b[0m\u001b[0;34m:\u001b[0m\u001b[0;34m\u001b[0m\u001b[0;34m\u001b[0m\u001b[0m\n\u001b[0;32m---> 14\u001b[0;31m                     \u001b[0mfinal\u001b[0m\u001b[0;34m=\u001b[0m\u001b[0mfinal\u001b[0m\u001b[0;34m+\u001b[0m\u001b[0mcomparetwolist\u001b[0m\u001b[0;34m(\u001b[0m\u001b[0marr\u001b[0m\u001b[0;34m[\u001b[0m\u001b[0mj\u001b[0m\u001b[0;34m*\u001b[0m\u001b[0mi\u001b[0m\u001b[0;34m:\u001b[0m\u001b[0mj\u001b[0m\u001b[0;34m*\u001b[0m\u001b[0mi\u001b[0m\u001b[0;34m+\u001b[0m\u001b[0mj\u001b[0m\u001b[0;34m/\u001b[0m\u001b[0;36m2\u001b[0m\u001b[0;34m]\u001b[0m\u001b[0;34m,\u001b[0m\u001b[0marr\u001b[0m\u001b[0;34m[\u001b[0m\u001b[0mj\u001b[0m\u001b[0;34m*\u001b[0m\u001b[0mi\u001b[0m\u001b[0;34m+\u001b[0m\u001b[0mj\u001b[0m\u001b[0;34m/\u001b[0m\u001b[0;36m2\u001b[0m\u001b[0;34m:\u001b[0m\u001b[0mj\u001b[0m\u001b[0;34m*\u001b[0m\u001b[0mi\u001b[0m\u001b[0;34m+\u001b[0m\u001b[0mj\u001b[0m\u001b[0;34m]\u001b[0m\u001b[0;34m)\u001b[0m\u001b[0;34m\u001b[0m\u001b[0;34m\u001b[0m\u001b[0m\n\u001b[0m\u001b[1;32m     15\u001b[0m                 \u001b[0mlost\u001b[0m\u001b[0;34m=\u001b[0m\u001b[0;34m(\u001b[0m\u001b[0mn\u001b[0m\u001b[0;34m//\u001b[0m\u001b[0mj\u001b[0m\u001b[0;34m)\u001b[0m\u001b[0;34m*\u001b[0m\u001b[0mj\u001b[0m\u001b[0;34m\u001b[0m\u001b[0;34m\u001b[0m\u001b[0m\n\u001b[1;32m     16\u001b[0m                 \u001b[0mfinal\u001b[0m\u001b[0;34m=\u001b[0m\u001b[0mfinal\u001b[0m\u001b[0;34m+\u001b[0m\u001b[0mcomparetwolist\u001b[0m\u001b[0;34m(\u001b[0m\u001b[0marr\u001b[0m\u001b[0;34m[\u001b[0m\u001b[0;34m(\u001b[0m\u001b[0mn\u001b[0m\u001b[0;34m//\u001b[0m\u001b[0mj\u001b[0m\u001b[0;34m)\u001b[0m\u001b[0;34m*\u001b[0m\u001b[0mj\u001b[0m\u001b[0;34m:\u001b[0m\u001b[0;34m(\u001b[0m\u001b[0mn\u001b[0m\u001b[0;34m//\u001b[0m\u001b[0mj\u001b[0m\u001b[0;34m)\u001b[0m\u001b[0;34m*\u001b[0m\u001b[0mj\u001b[0m\u001b[0;34m+\u001b[0m\u001b[0mj\u001b[0m\u001b[0;34m/\u001b[0m\u001b[0;36m2\u001b[0m\u001b[0;34m]\u001b[0m\u001b[0;34m,\u001b[0m\u001b[0marr\u001b[0m\u001b[0;34m[\u001b[0m\u001b[0;34m(\u001b[0m\u001b[0mn\u001b[0m\u001b[0;34m//\u001b[0m\u001b[0mj\u001b[0m\u001b[0;34m)\u001b[0m\u001b[0;34m*\u001b[0m\u001b[0mj\u001b[0m\u001b[0;34m+\u001b[0m\u001b[0mj\u001b[0m\u001b[0;34m/\u001b[0m\u001b[0;36m2\u001b[0m\u001b[0;34m:\u001b[0m\u001b[0;34m]\u001b[0m\u001b[0;34m)\u001b[0m\u001b[0;34m\u001b[0m\u001b[0;34m\u001b[0m\u001b[0m\n",
      "\u001b[0;31mTypeError\u001b[0m: slice indices must be integers or None or have an __index__ method"
     ]
    }
   ],
   "source": [
    "merge_sort(arr)#看來我的index好像不夠嚴謹"
   ]
  },
  {
   "cell_type": "code",
   "execution_count": 210,
   "metadata": {},
   "outputs": [],
   "source": [
    "def merge_sort(arr):\n",
    "    k=1\n",
    "    \n",
    "    while len(arr)<=(2**k):##後來發現這個部分寫錯了，但是我的想法是想要找出迴圈跑幾次，像是1,2跑一次3,4跑兩次5~8跑三次\n",
    "        j=2**k\n",
    "        final=[]\n",
    "        n=len(arr)\n",
    "        if len(arr)%j==0:#仿照前面兩個簡單的比較，把2和4用變數表示，這樣就可以一直往下跑2,4,8等等\n",
    "            for i in range(n//j):\n",
    "                final=final+comparetwolist(arr[j*i:j*i+j/2],arr[j*i+j/2:j*i+j])\n",
    "            arr=final\n",
    "        else:\n",
    "            if (n//j)*j+j/2 > len (arr)-1:\n",
    "                for i in range(n//j):\n",
    "                    final=final+comparetwolist(arr[j*i:j*i+j/2],arr[j*i+j/2:j*i+j])\n",
    "                lost=(n//j)*j\n",
    "                final=final+comparetwolist(arr[(n//j)*j:(n//j)*j+j/2],arr[(n//j)*j+j/2:])\n",
    "                arr=final\n",
    "            else:\n",
    "                for i in range(n//j):\n",
    "                    final=final+comparetwolist(arr[j*i:j*i+j/2],arr[j*i+j/2:j*i+j])\n",
    "                final=final+arr[(n//j)*j:]\n",
    "                arr=final\n",
    "                \n",
    "        k=k+1\n",
    "    return arr"
   ]
  },
  {
   "cell_type": "code",
   "execution_count": 211,
   "metadata": {},
   "outputs": [
    {
     "ename": "TypeError",
     "evalue": "slice indices must be integers or None or have an __index__ method",
     "output_type": "error",
     "traceback": [
      "\u001b[0;31m---------------------------------------------------------------------------\u001b[0m",
      "\u001b[0;31mTypeError\u001b[0m                                 Traceback (most recent call last)",
      "\u001b[0;32m<ipython-input-211-1a51904718f0>\u001b[0m in \u001b[0;36m<module>\u001b[0;34m\u001b[0m\n\u001b[0;32m----> 1\u001b[0;31m \u001b[0mmerge_sort\u001b[0m\u001b[0;34m(\u001b[0m\u001b[0marr\u001b[0m\u001b[0;34m)\u001b[0m\u001b[0;34m\u001b[0m\u001b[0;34m\u001b[0m\u001b[0m\n\u001b[0m",
      "\u001b[0;32m<ipython-input-210-0dc3a7d56d9b>\u001b[0m in \u001b[0;36mmerge_sort\u001b[0;34m(arr)\u001b[0m\n\u001b[1;32m      8\u001b[0m         \u001b[0;32mif\u001b[0m \u001b[0mlen\u001b[0m\u001b[0;34m(\u001b[0m\u001b[0marr\u001b[0m\u001b[0;34m)\u001b[0m\u001b[0;34m%\u001b[0m\u001b[0mj\u001b[0m\u001b[0;34m==\u001b[0m\u001b[0;36m0\u001b[0m\u001b[0;34m:\u001b[0m\u001b[0;31m#仿照前面兩個簡單的比較，把2和4用變數表示，這樣就可以一直往下跑2,4,8等等\u001b[0m\u001b[0;34m\u001b[0m\u001b[0;34m\u001b[0m\u001b[0m\n\u001b[1;32m      9\u001b[0m             \u001b[0;32mfor\u001b[0m \u001b[0mi\u001b[0m \u001b[0;32min\u001b[0m \u001b[0mrange\u001b[0m\u001b[0;34m(\u001b[0m\u001b[0mn\u001b[0m\u001b[0;34m//\u001b[0m\u001b[0mj\u001b[0m\u001b[0;34m)\u001b[0m\u001b[0;34m:\u001b[0m\u001b[0;34m\u001b[0m\u001b[0;34m\u001b[0m\u001b[0m\n\u001b[0;32m---> 10\u001b[0;31m                 \u001b[0mfinal\u001b[0m\u001b[0;34m=\u001b[0m\u001b[0mfinal\u001b[0m\u001b[0;34m+\u001b[0m\u001b[0mcomparetwolist\u001b[0m\u001b[0;34m(\u001b[0m\u001b[0marr\u001b[0m\u001b[0;34m[\u001b[0m\u001b[0mj\u001b[0m\u001b[0;34m*\u001b[0m\u001b[0mi\u001b[0m\u001b[0;34m:\u001b[0m\u001b[0mj\u001b[0m\u001b[0;34m*\u001b[0m\u001b[0mi\u001b[0m\u001b[0;34m+\u001b[0m\u001b[0mj\u001b[0m\u001b[0;34m/\u001b[0m\u001b[0;36m2\u001b[0m\u001b[0;34m]\u001b[0m\u001b[0;34m,\u001b[0m\u001b[0marr\u001b[0m\u001b[0;34m[\u001b[0m\u001b[0mj\u001b[0m\u001b[0;34m*\u001b[0m\u001b[0mi\u001b[0m\u001b[0;34m+\u001b[0m\u001b[0mj\u001b[0m\u001b[0;34m/\u001b[0m\u001b[0;36m2\u001b[0m\u001b[0;34m:\u001b[0m\u001b[0mj\u001b[0m\u001b[0;34m*\u001b[0m\u001b[0mi\u001b[0m\u001b[0;34m+\u001b[0m\u001b[0mj\u001b[0m\u001b[0;34m]\u001b[0m\u001b[0;34m)\u001b[0m\u001b[0;34m\u001b[0m\u001b[0;34m\u001b[0m\u001b[0m\n\u001b[0m\u001b[1;32m     11\u001b[0m             \u001b[0marr\u001b[0m\u001b[0;34m=\u001b[0m\u001b[0mfinal\u001b[0m\u001b[0;34m\u001b[0m\u001b[0;34m\u001b[0m\u001b[0m\n\u001b[1;32m     12\u001b[0m         \u001b[0;32melse\u001b[0m\u001b[0;34m:\u001b[0m\u001b[0;34m\u001b[0m\u001b[0;34m\u001b[0m\u001b[0m\n",
      "\u001b[0;31mTypeError\u001b[0m: slice indices must be integers or None or have an __index__ method"
     ]
    }
   ],
   "source": [
    "merge_sort(arr)"
   ]
  },
  {
   "cell_type": "code",
   "execution_count": 192,
   "metadata": {},
   "outputs": [
    {
     "data": {
      "text/plain": [
       "[4, 3]"
      ]
     },
     "execution_count": 192,
     "metadata": {},
     "output_type": "execute_result"
    }
   ],
   "source": [
    "import math\n",
    "def comparetwolist(a,b):\n",
    "    c=[]\n",
    "    while len(a)*len(b)!=0:\n",
    "        if a[0]>=b[0]:\n",
    "            c.append(a[0])\n",
    "            a.pop(0)\n",
    "        else:\n",
    "            c.append(b[0])\n",
    "            b.pop(0)\n",
    "    if len(a)==0:\n",
    "        c=c+b\n",
    "    else:\n",
    "        c=c+a\n",
    "    return c\n",
    "def merge_sort(arr):\n",
    "    for k in range(1,math.ceil(math.log(len(arr),2))+1):#我這次將這裡的變數做修改，\n",
    "        #我呼叫了一個函式，幫助我取對數以及取整數，我以2為底對長度取對數找到我最多會分成幾個朋友一組\n",
    "        j=2**k\n",
    "        final=[]\n",
    "        n=len(arr)\n",
    "        if len(arr)%j==0:\n",
    "            for i in range(n//j):      \n",
    "                final=final+comparetwolist(arr[j*i:j*i+j//2],arr[j*i+j//2:j*i+j])\n",
    "            arr=final\n",
    "        else:\n",
    "         \n",
    "            for i in range(n//j):\n",
    "                final=final+comparetwolist(arr[j*i:j*i+j//2],arr[j*i+j//2:j*i+j])\n",
    "            lost=(n//j)*j\n",
    "            final=final+comparetwolist(arr[(n//j)*j:(n//j)*j+j//2],arr[(n//j)*j+j//2:])\n",
    "            arr=final\n",
    "\n",
    "                \n",
    "        \n",
    "    return arr\n",
    "arr = [3,4]\n",
    "done = merge_sort(arr)\n",
    "done"
   ]
  },
  {
   "cell_type": "code",
   "execution_count": 193,
   "metadata": {},
   "outputs": [],
   "source": [
    "import math#最後整理成規定形式\n",
    "class Solution(object):\n",
    "    def comparetwolist(self,a,b):\n",
    "        c=[]\n",
    "        while len(a)*len(b)!=0:\n",
    "            if a[0]>=b[0]:\n",
    "                c.append(a[0])\n",
    "                a.pop(0)\n",
    "            else:\n",
    "                c.append(b[0])\n",
    "                b.pop(0)\n",
    "        if len(a)==0:\n",
    "            c=c+b\n",
    "        else:\n",
    "            c=c+a\n",
    "        return c\n",
    "    def merge_sort(self,arr):\n",
    "        for k in range(1,math.ceil(math.log(len(arr),2))+1):\n",
    "\n",
    "            j=2**k\n",
    "            final=[]\n",
    "            n=len(arr)\n",
    "            if len(arr)%j==0:\n",
    "                for i in range(n//j):      \n",
    "                    final=final+self.comparetwolist(arr[j*i:j*i+j//2],arr[j*i+j//2:j*i+j])\n",
    "                arr=final\n",
    "            else:\n",
    "\n",
    "                for i in range(n//j):\n",
    "                    final=final+self.comparetwolist(arr[j*i:j*i+j//2],arr[j*i+j//2:j*i+j])\n",
    "                lost=(n//j)*j\n",
    "                final=final+self.comparetwolist(arr[(n//j)*j:(n//j)*j+j//2],arr[(n//j)*j+j//2:])\n",
    "                arr=final\n",
    "        return arr"
   ]
  },
  {
   "cell_type": "code",
   "execution_count": 194,
   "metadata": {},
   "outputs": [
    {
     "data": {
      "text/plain": [
       "[19, 6, 3, 2, 2, -4]"
      ]
     },
     "execution_count": 194,
     "metadata": {},
     "output_type": "execute_result"
    }
   ],
   "source": [
    "Solution().merge_sort([3,2,-4,6,2,19])"
   ]
  },
  {
   "cell_type": "code",
   "execution_count": 195,
   "metadata": {},
   "outputs": [
    {
     "data": {
      "text/plain": [
       "[5, 2, 1, 1, 0, 0]"
      ]
     },
     "execution_count": 195,
     "metadata": {},
     "output_type": "execute_result"
    }
   ],
   "source": [
    "Solution().merge_sort([0,0,1,1,2,5])#大功告成！"
   ]
  },
  {
   "cell_type": "code",
   "execution_count": null,
   "metadata": {},
   "outputs": [],
   "source": []
  }
 ],
 "metadata": {
  "kernelspec": {
   "display_name": "Python 3",
   "language": "python",
   "name": "python3"
  },
  "language_info": {
   "codemirror_mode": {
    "name": "ipython",
    "version": 3
   },
   "file_extension": ".py",
   "mimetype": "text/x-python",
   "name": "python",
   "nbconvert_exporter": "python",
   "pygments_lexer": "ipython3",
   "version": "3.7.1"
  }
 },
 "nbformat": 4,
 "nbformat_minor": 2
}
