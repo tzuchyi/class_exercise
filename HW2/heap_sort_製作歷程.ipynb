{
 "cells": [
  {
   "cell_type": "markdown",
   "metadata": {},
   "source": [
    "![heap流程圖](https://i.imgur.com/nBiRwJD.jpg)"
   ]
  },
  {
   "cell_type": "code",
   "execution_count": null,
   "metadata": {},
   "outputs": [],
   "source": [
    "def maxheap(arr,head,tail):#一開始想說應該和quicksort有異曲同工之妙吧那應該也需要頭和尾\n",
    "    for i in range(head,tail):#想辦法寫如果第一個位置的數字要怎麼和下面的孩子交換位置\n",
    "        for j in \n",
    "        if arr[0]<=arr[i]:\n",
    "            arr[0],arr[i]=arr[i],arr[0]\n",
    "            if arr[i]<=arr[i*2+1]:\n",
    "                arr[i],arr[i*2+1]=arr[i*2+1],arr[i]\n",
    "                \n",
    "        if arr[0]>arr[i]:#寫到這裡發現 我好像會一直做一件重複的事"
   ]
  },
  {
   "cell_type": "code",
   "execution_count": 22,
   "metadata": {},
   "outputs": [],
   "source": [
    "def maxheap(arr,head,tail):#那就把我剛剛做的事這樣寫成一個回圈\n",
    "    max_dad=(tail+1)//2\n",
    "    for i in range(head,max_dad):\n",
    "        dad=i\n",
    "        left_son=2*i+1\n",
    "        right_son=2*i+2\n",
    "        grandpa=(i+1)//2#設定爸爸左小孩右小孩和爺爺\n",
    "        if arr[dad]<=arr[left_son]:\n",
    "            arr[dad],arr[left_son]=arr[left_son],arr[dad]\n",
    "            if arr[dad]<=arr[right_son]:\n",
    "                arr[dad],arr[right_son]=arr[right_son],arr[dad]\n",
    "        elif arr[dad]<=arr[right_son]:#先和自己小孩比\n",
    "            arr[dad],arr[right_son]=arr[right_son],arr[dad]\n",
    "        if dad>head:\n",
    "            if arr[dad]>=arr[grandpa]:#再和爺爺比\n",
    "                arr[dad],arr[grandpa]=arr[grandpa],arr[dad]"
   ]
  },
  {
   "cell_type": "code",
   "execution_count": 114,
   "metadata": {},
   "outputs": [
    {
     "ename": "SyntaxError",
     "evalue": "invalid syntax (<ipython-input-114-b0a9983c3864>, line 2)",
     "output_type": "error",
     "traceback": [
      "\u001b[0;36m  File \u001b[0;32m\"<ipython-input-114-b0a9983c3864>\"\u001b[0;36m, line \u001b[0;32m2\u001b[0m\n\u001b[0;31m    for i in\u001b[0m\n\u001b[0m             ^\u001b[0m\n\u001b[0;31mSyntaxError\u001b[0m\u001b[0;31m:\u001b[0m invalid syntax\n"
     ]
    }
   ],
   "source": [
    "def heapsort(arr,head,tail):#後來想想好像怪怪的 不是每一個都需要和爺爺比 有換位置在和爺爺比就好了\n",
    "    for i in \n",
    "        maxheap(arr,head,tail)\n",
    "    "
   ]
  },
  {
   "cell_type": "code",
   "execution_count": 23,
   "metadata": {},
   "outputs": [],
   "source": [
    "k=[3,5,1,7,8]"
   ]
  },
  {
   "cell_type": "code",
   "execution_count": 24,
   "metadata": {},
   "outputs": [],
   "source": [
    "maxheap(k,0,len(k)-1)"
   ]
  },
  {
   "cell_type": "code",
   "execution_count": 25,
   "metadata": {},
   "outputs": [
    {
     "data": {
      "text/plain": [
       "[5, 8, 1, 3, 7]"
      ]
     },
     "execution_count": 25,
     "metadata": {},
     "output_type": "execute_result"
    }
   ],
   "source": [
    "k"
   ]
  },
  {
   "cell_type": "code",
   "execution_count": 19,
   "metadata": {},
   "outputs": [],
   "source": [
    "def checkson(arr,me):#那就來做一個工具 只和小孩比\n",
    "    if me <=(len(arr))//2-1:\n",
    "        left_son=2*me+1\n",
    "        right_son=2*me+2\n",
    "        if right_son<=len(arr)-1:#狀況又分成右小孩存在與右小孩不存在\n",
    "            if arr[me]<=arr[left_son]:\n",
    "                arr[me],arr[left_son]=arr[left_son],arr[me]\n",
    "                if arr[me]<=arr[right_son]:\n",
    "                    arr[me],arr[right_son]=arr[right_son],arr[me]\n",
    "                checkdad(arr,me)#當我出現交換位置 我就要回去和爸爸作比較 這是我等一下要寫的另一個工具\n",
    "            elif arr[me]<=arr[right_son]:\n",
    "                arr[me],arr[right_son]=arr[right_son],arr[me]\n",
    "                checkdad(arr,me)\n",
    "        else:#這邊就是右小孩不存在的狀況\n",
    "            if arr[me]<=arr[left_son]:\n",
    "                arr[me],arr[left_son]=arr[left_son],arr[me]\n",
    "                checkdad(arr,me)"
   ]
  },
  {
   "cell_type": "code",
   "execution_count": 20,
   "metadata": {},
   "outputs": [],
   "source": [
    "def checkdad(arr,me):#接下來檢查爸爸\n",
    "    if me !=0:#當我還不是第一個老大的時候我都還要繼續望上檢查爸爸\n",
    "        dad=(me-1)//2\n",
    "        if arr[me]>=arr[dad]:\n",
    "            arr[me],arr[dad]=arr[dad],arr[me]\n",
    "            me=dad#當我交換之後我就要換成爸爸繼續和我的爸爸檢查\n",
    "            checkdad(arr,me)"
   ]
  },
  {
   "cell_type": "code",
   "execution_count": 21,
   "metadata": {},
   "outputs": [],
   "source": [
    "def maxheap(arr):#現在就是把一個一個要檢查的人拿來檢查\n",
    "    for i in range(len(arr)):\n",
    "        checkson(arr,i)"
   ]
  },
  {
   "cell_type": "code",
   "execution_count": 22,
   "metadata": {},
   "outputs": [],
   "source": [
    "k=[3,5,1,7,8]"
   ]
  },
  {
   "cell_type": "code",
   "execution_count": 23,
   "metadata": {},
   "outputs": [],
   "source": [
    "maxheap(k)"
   ]
  },
  {
   "cell_type": "code",
   "execution_count": 24,
   "metadata": {},
   "outputs": [
    {
     "data": {
      "text/plain": [
       "[8, 5, 1, 3, 7]"
      ]
     },
     "execution_count": 24,
     "metadata": {},
     "output_type": "execute_result"
    }
   ],
   "source": [
    "k#就成功做出第一個位置數字最大的工具啦"
   ]
  },
  {
   "cell_type": "code",
   "execution_count": 25,
   "metadata": {},
   "outputs": [],
   "source": [
    "def heapsort(arr):#最後一步\n",
    "    final=[]#先設定我最後的解答\n",
    "    while len(arr)!=0:#只要我的陣列還有東西就要繼續跑\n",
    "        maxheap(arr)\n",
    "        final.append(arr[0])#把最大的數加進去\n",
    "        arr[0],arr[-1]=arr[-1],arr[0]#交換位置到最後一個\n",
    "        arr.pop()#再拿掉最後一個數\n",
    "    return final#就成功啦 萬歲"
   ]
  },
  {
   "cell_type": "code",
   "execution_count": 26,
   "metadata": {},
   "outputs": [
    {
     "data": {
      "text/plain": [
       "[8, 7, 5, 3, 1]"
      ]
     },
     "execution_count": 26,
     "metadata": {},
     "output_type": "execute_result"
    }
   ],
   "source": [
    "heapsort(k)"
   ]
  },
  {
   "cell_type": "code",
   "execution_count": 27,
   "metadata": {},
   "outputs": [
    {
     "data": {
      "text/plain": [
       "[22, 15, 8, 7, 4, 3, 1]"
      ]
     },
     "execution_count": 27,
     "metadata": {},
     "output_type": "execute_result"
    }
   ],
   "source": [
    "heapsort([3,1,7,8,15,4,22])"
   ]
  },
  {
   "cell_type": "code",
   "execution_count": 28,
   "metadata": {},
   "outputs": [
    {
     "data": {
      "text/plain": [
       "[5, 2, 1, 1, 0, 0]"
      ]
     },
     "execution_count": 28,
     "metadata": {},
     "output_type": "execute_result"
    }
   ],
   "source": [
    "heapsort([0,0,1,1,2,5])"
   ]
  },
  {
   "cell_type": "code",
   "execution_count": 40,
   "metadata": {},
   "outputs": [],
   "source": [
    "class Solution(object):\n",
    "    def checkdad(self,arr,me):#接下來檢查爸爸\n",
    "        if me !=0:#當我還不是第一個老大的時候我都還要繼續望上檢查爸爸\n",
    "            dad=(me-1)//2\n",
    "            if arr[me]>=arr[dad]:\n",
    "                arr[me],arr[dad]=arr[dad],arr[me]\n",
    "                me=dad#當我交換之後我就要換成爸爸繼續和我的爸爸檢查\n",
    "                self.checkdad(arr,me)\n",
    "    def checkson(self,arr,me):#那就來做一個工具 只和小孩比\n",
    "        if me <=(len(arr))//2-1:\n",
    "            left_son=2*me+1\n",
    "            right_son=2*me+2\n",
    "            if right_son<=len(arr)-1:#狀況又分成右小孩存在與右小孩不存在\n",
    "                if arr[me]<=arr[left_son]:\n",
    "                    arr[me],arr[left_son]=arr[left_son],arr[me]\n",
    "                    if arr[me]<=arr[right_son]:\n",
    "                        arr[me],arr[right_son]=arr[right_son],arr[me]\n",
    "                    self.checkdad(arr,me)#當我出現交換位置 我就要回去和爸爸作比較 這是我等一下要寫的另一個工具\n",
    "                elif arr[me]<=arr[right_son]:\n",
    "                    arr[me],arr[right_son]=arr[right_son],arr[me]\n",
    "                    self.checkdad(arr,me)\n",
    "            else:#這邊就是右小孩不存在的狀況\n",
    "                if arr[me]<=arr[left_son]:\n",
    "                    arr[me],arr[left_son]=arr[left_son],arr[me]\n",
    "                    self.checkdad(arr,me)\n",
    "    def maxheap(self,arr):#現在就是把一個一個要檢查的人拿來檢查\n",
    "        for i in range(len(arr)):\n",
    "            self.checkson(arr,i)\n",
    "    def heap_sort(self,arr):#最後一步\n",
    "        final=[]#先設定我最後的解答\n",
    "        while len(arr)!=0:#只要我的陣列還有東西就要繼續跑\n",
    "            self.maxheap(arr)\n",
    "            final.append(arr[0])#把最大的數加進去\n",
    "            arr[0],arr[-1]=arr[-1],arr[0]#交換位置到最後一個\n",
    "            arr.pop()#再拿掉最後一個數\n",
    "        return final#就成功啦 萬歲"
   ]
  },
  {
   "cell_type": "code",
   "execution_count": 41,
   "metadata": {},
   "outputs": [
    {
     "data": {
      "text/plain": [
       "[5, 2, 1, 1, 0, 0]"
      ]
     },
     "execution_count": 41,
     "metadata": {},
     "output_type": "execute_result"
    }
   ],
   "source": [
    "Solution().heap_sort([0,0,1,1,2,5])"
   ]
  },
  {
   "cell_type": "code",
   "execution_count": 42,
   "metadata": {},
   "outputs": [
    {
     "data": {
      "text/plain": [
       "[19, 6, 3, 2, 2, -4]"
      ]
     },
     "execution_count": 42,
     "metadata": {},
     "output_type": "execute_result"
    }
   ],
   "source": [
    "Solution().heap_sort([3,2,-4,6,2,19])"
   ]
  },
  {
   "cell_type": "code",
   "execution_count": 44,
   "metadata": {},
   "outputs": [
    {
     "data": {
      "text/plain": [
       "[7, 4, 3, 3, 3, 3, 3, 3, 3, 3, 1]"
      ]
     },
     "execution_count": 44,
     "metadata": {},
     "output_type": "execute_result"
    }
   ],
   "source": [
    "Solution().heap_sort([3,3,3,3,4,7,3,1,3,3,3])"
   ]
  },
  {
   "cell_type": "code",
   "execution_count": null,
   "metadata": {},
   "outputs": [],
   "source": []
  }
 ],
 "metadata": {
  "kernelspec": {
   "display_name": "Python 3",
   "language": "python",
   "name": "python3"
  },
  "language_info": {
   "codemirror_mode": {
    "name": "ipython",
    "version": 3
   },
   "file_extension": ".py",
   "mimetype": "text/x-python",
   "name": "python",
   "nbconvert_exporter": "python",
   "pygments_lexer": "ipython3",
   "version": "3.7.1"
  }
 },
 "nbformat": 4,
 "nbformat_minor": 2
}
