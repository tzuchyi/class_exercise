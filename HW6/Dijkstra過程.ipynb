{
 "cells": [
  {
   "cell_type": "code",
   "execution_count": null,
   "metadata": {},
   "outputs": [],
   "source": [
    "from collections import defaultdict \n",
    "\n",
    "class Graph:\n",
    "\n",
    "    def __init__(self): \n",
    "\n",
    "        self.graph = defaultdict(list) \n",
    "\n",
    "    def addEdge(self,u,v): \n",
    "        self.graph[u].append(v) \n",
    "  \n",
    "    def BFS(self, s): \n",
    "        \n",
    "        ans=[]\n",
    "        temp=[s]\n",
    "        exsist=set(\"s\")\n",
    "     \n",
    "\n",
    "        \n",
    "        while len(temp)>0 :\n",
    "            \n",
    "            out=temp.pop(0)\n",
    "            ans.append(out)\n",
    "            \n",
    "            \n",
    "            for i in self.graph[out]:\n",
    "                if i not in ans and i not in exsist:\n",
    "                    temp.append(i)\n",
    "                    exsist.add(i)\n",
    "\n",
    "                    \n",
    "        return ans\n",
    "                \n",
    "                \n",
    "                \n",
    "    def DFS(self, s):\n",
    "        \n",
    "        ans=[]\n",
    "        temp=[s]\n",
    "        exsist=set(\"s\")\n",
    "      \n",
    "\n",
    "        \n",
    "        while len(temp)>0 :\n",
    "            \n",
    "            out=temp.pop(-1)\n",
    "            ans.append(out)\n",
    "            \n",
    "            \n",
    "            for i in self.graph[out]:\n",
    "                if i not in ans and i not in exsist:\n",
    "                    temp.append(i)\n",
    "                    exsist.add(i)\n",
    "\n",
    "                    \n",
    "        return ans"
   ]
  },
  {
   "cell_type": "code",
   "execution_count": 254,
   "metadata": {},
   "outputs": [],
   "source": [
    "# Python program for Dijkstra's single  \n",
    "# source shortest path algorithm. The program is  \n",
    "# for adjacency matrix representation of the graph \n",
    "# Python program for Kruskal's algorithm to find \n",
    "# Minimum Spanning Tree of a given connected,  \n",
    "# undirected and weighted graph \n",
    "\n",
    "from collections import defaultdict \n",
    "\n",
    "#Class to represent a graph \n",
    "class Graph(): \n",
    "\n",
    "    def __init__(self, vertices): \n",
    "        self.V = vertices \n",
    "        self.graph = [] \n",
    "        self.graph_matrix = [[0 for column in range(vertices)]  \n",
    "                    for row in range(vertices)] \n",
    "    def addEdge(self,u,v,w): \n",
    "        pass\n",
    "        \n",
    "        \"\"\"\n",
    "        :type u,v,w: int\n",
    "        :rtype: None\n",
    "        \"\"\"\n",
    "    def Dijkstra(self, s): \n",
    "        \n",
    "        dictionary_all={}\n",
    "        for i in range(self.V):\n",
    "            dictionary_ind={}\n",
    "            for k in range(self.V):\n",
    "                if self.graph[i][k]!=0:\n",
    "                    dictionary_ind[k]=self.graph[i][k]\n",
    "                dictionary_all[i]=dictionary_ind\n",
    "        seen=set(\"s\")\n",
    "        ungo=[]\n",
    "        \n",
    "        node=s\n",
    "        accumulated=0\n",
    "        while len(seen)!=self.V:\n",
    "            \n",
    "            for q in dictionary_all[node]:\n",
    "                if q not in seen :\n",
    "                    \n",
    "                    val=dictionary_all[node][q]\n",
    "                    temp=[q, val+accumulated]\n",
    "                    ungo.append(temp)\n",
    "            temp_ungo=[]\n",
    "            for x in range(len(ungo)):\n",
    "                for y in range(len(ungo)):\n",
    "                    if x!=y:\n",
    "                        if ungo[x][0]==ungo[y][0] and ungo[x][1]<=ungo[y][1]:\n",
    "                            temp_ungo.append(ungo[y])\n",
    "                        elif ungo[x][0]==ungo[y][0] and ungo[x][1]>ungo[y][1]:\n",
    "                            temp_ungo.append(ungo[x])\n",
    "            if len(temp_ungo)!=0:\n",
    "                for remove in temp_ungo:\n",
    "                    ungo.remove([remove])\n",
    "                                                       \n",
    "                                \n",
    "            distence=[0]\n",
    "            path=[s]\n",
    "            small=ungo[0][1]\n",
    "            loc=ungo[0][0]\n",
    "            for j in ungo:\n",
    "                if small>j[1]:\n",
    "                    loc=j[0]\n",
    "                    small=j[1]\n",
    "            for t in  ungo:\n",
    "                if t[0]==loc:\n",
    "                    ungo.remove([t[0],t[1]])\n",
    "             \n",
    "            accumulated=small\n",
    "            distence.append(small)\n",
    "            path.append(loc)\n",
    "            node=loc\n",
    "            seen.add(\"node\")\n",
    "        \n",
    "        final = dict(zip(str(path), distence))\n",
    "        return final       \n",
    "        \"\"\"\n",
    "        :type s: int\n",
    "        :rtype: dict\n",
    "        \"\"\"\n",
    "    def Kruskal(self):\n",
    "        \"\"\"\n",
    "        :rtype: dict\n",
    "        \"\"\"\n",
    "        pass    \n",
    "            \n",
    "            "
   ]
  },
  {
   "cell_type": "code",
   "execution_count": 280,
   "metadata": {},
   "outputs": [],
   "source": [
    "\n",
    "k = Graph(9)\n",
    "k.graph = [[0,4,0,0,0,0,0,8,0],\n",
    "           [4,0,8,0,0,0,0,11,0],\n",
    "           [0,8,0,7,0,4,0,0,2],\n",
    "           [0,0,7,0,9,14,0,0,0],\n",
    "           [0,0,0,9,0,10,0,0,0],\n",
    "           [0,0,4,14,10,0,2,0,0],\n",
    "           [0,0,0,0,0,2,0,1,6],\n",
    "           [8,11,0,0,0,0,1,0,7],\n",
    "           [0,0,2,0,0,0,6,7,0]];\n",
    "\n"
   ]
  },
  {
   "cell_type": "code",
   "execution_count": 276,
   "metadata": {},
   "outputs": [],
   "source": [
    "dictionary_all={}\n",
    "for i in range(g.V):\n",
    "    dictionary_ind={}\n",
    "    for k in range(g.V):\n",
    "        if g.graph[i][k]!=0:\n",
    "            dictionary_ind[k]=g.graph[i][k]\n",
    "        dictionary_all[i]=dictionary_ind"
   ]
  },
  {
   "cell_type": "code",
   "execution_count": 277,
   "metadata": {},
   "outputs": [
    {
     "data": {
      "text/plain": [
       "{0: {1: 4, 2: 12, 3: 19, 4: 21, 5: 11, 6: 9, 7: 8, 8: 14},\n",
       " 1: {0: 4, 2: 8, 7: 11},\n",
       " 2: {1: 8, 3: 7, 5: 4, 8: 2},\n",
       " 3: {2: 7, 4: 9, 5: 14},\n",
       " 4: {3: 9, 5: 10},\n",
       " 5: {2: 4, 3: 14, 4: 10, 6: 2},\n",
       " 6: {5: 2, 7: 1, 8: 6},\n",
       " 7: {0: 8, 1: 11, 6: 1, 8: 7},\n",
       " 8: {2: 2, 6: 6, 7: 7}}"
      ]
     },
     "execution_count": 277,
     "metadata": {},
     "output_type": "execute_result"
    }
   ],
   "source": [
    "dictionary_all"
   ]
  },
  {
   "cell_type": "code",
   "execution_count": 278,
   "metadata": {},
   "outputs": [
    {
     "name": "stdout",
     "output_type": "stream",
     "text": [
      "1\n",
      "4\n",
      "[1, 4]\n",
      "2\n",
      "12\n",
      "[2, 12]\n",
      "3\n",
      "19\n",
      "[3, 19]\n",
      "4\n",
      "21\n",
      "[4, 21]\n",
      "5\n",
      "11\n",
      "[5, 11]\n",
      "6\n",
      "9\n",
      "[6, 9]\n",
      "7\n",
      "8\n",
      "[7, 8]\n",
      "8\n",
      "14\n",
      "[8, 14]\n"
     ]
    }
   ],
   "source": [
    "for q in dictionary_all[0]:\n",
    "    print(q)\n",
    "    print(dictionary_all[0][q])\n",
    "    print([q,dictionary_all[0][q]])"
   ]
  },
  {
   "cell_type": "code",
   "execution_count": 279,
   "metadata": {},
   "outputs": [],
   "source": [
    "k=dictionary_all[1].keys()"
   ]
  },
  {
   "cell_type": "code",
   "execution_count": 225,
   "metadata": {},
   "outputs": [],
   "source": [
    "g=dictionary_all[2]"
   ]
  },
  {
   "cell_type": "code",
   "execution_count": 226,
   "metadata": {},
   "outputs": [],
   "source": [
    "c=dict(u)"
   ]
  },
  {
   "cell_type": "code",
   "execution_count": 227,
   "metadata": {},
   "outputs": [],
   "source": [
    "c=c.update(g)"
   ]
  },
  {
   "cell_type": "code",
   "execution_count": 228,
   "metadata": {},
   "outputs": [],
   "source": [
    "c"
   ]
  },
  {
   "cell_type": "code",
   "execution_count": 234,
   "metadata": {},
   "outputs": [],
   "source": [
    "\n",
    "g = Graph(5)\n",
    "g.graph = [\n",
    "           [0,0,0,9,0,10,0,0,0],\n",
    "           [0,0,4,14,10,0,2,0,0],\n",
    "           [0,0,0,0,0,2,0,1,6],\n",
    "           [8,11,0,0,0,0,1,0,7],\n",
    "           [0,0,2,0,0,0,6,7,0]];\n",
    "\n",
    "\n"
   ]
  },
  {
   "cell_type": "code",
   "execution_count": 281,
   "metadata": {},
   "outputs": [
    {
     "data": {
      "text/plain": [
       "{'0': 0, '1': 4, '2': 12, '3': 19, '4': 21, '5': 11, '6': 9, '7': 8, '8': 14}"
      ]
     },
     "execution_count": 281,
     "metadata": {},
     "output_type": "execute_result"
    }
   ],
   "source": [
    "k.Dijkstra(0)"
   ]
  },
  {
   "cell_type": "code",
   "execution_count": 274,
   "metadata": {},
   "outputs": [],
   "source": [
    "\n",
    "from collections import defaultdict \n",
    "\n",
    "class Graph(): \n",
    "\n",
    "    def __init__(self, vertices): \n",
    "        self.V = vertices \n",
    "        self.graph = [] \n",
    "        self.graph_matrix = [[0 for column in range(vertices)]  \n",
    "                    for row in range(vertices)] \n",
    "        \n",
    "    def addEdge(self,u,v,w): \n",
    "        self.graph.append([u,v,w])\n",
    "\n",
    "    def Dijkstra(self, s): \n",
    "        long=len(self.graph)\n",
    "        nodes = [i for i in range(long)]  \n",
    "        visited=[]  \n",
    "        \n",
    "        if s in nodes:\n",
    "            nodes.remove(s)\n",
    "            visited.append(s)\n",
    "            \n",
    "        else:\n",
    "            return None\n",
    "        \n",
    "        dictionary = {str(s):0}\n",
    "        distance={s:0}  \n",
    "        \n",
    "        for i in nodes:\n",
    "            distance[i]=self.graph[s][i]  \n",
    "\n",
    "        k=pre=s\n",
    "        while nodes:\n",
    "            mid_distance=float('inf')\n",
    "            for v in visited:\n",
    "                for d in nodes:\n",
    "                    new_distance = self.graph[s][v]+self.graph[v][d]\n",
    "                    if new_distance < mid_distance and self.graph[v][d]!=0:\n",
    "                        mid_distance=new_distance\n",
    "                        self.graph[s][d]=new_distance \n",
    "                        k=d\n",
    "                        pre=v\n",
    "            distance[k]=mid_distance  \n",
    "            nodes.remove(k) \n",
    "            visited.append(k)\n",
    "             \n",
    "            for i in range (self.V):\n",
    "                dictionary[str(i)] = distance[i]\n",
    "        return dictionary\n",
    "\n",
    "    def Kruskal(self):\n",
    "        pass\n"
   ]
  },
  {
   "cell_type": "code",
   "execution_count": null,
   "metadata": {},
   "outputs": [],
   "source": []
  }
 ],
 "metadata": {
  "kernelspec": {
   "display_name": "Python 3",
   "language": "python",
   "name": "python3"
  },
  "language_info": {
   "codemirror_mode": {
    "name": "ipython",
    "version": 3
   },
   "file_extension": ".py",
   "mimetype": "text/x-python",
   "name": "python",
   "nbconvert_exporter": "python",
   "pygments_lexer": "ipython3",
   "version": "3.7.1"
  }
 },
 "nbformat": 4,
 "nbformat_minor": 2
}
