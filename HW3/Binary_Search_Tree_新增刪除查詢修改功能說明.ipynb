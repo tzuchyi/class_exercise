{
 "cells": [
  {
   "cell_type": "markdown",
   "metadata": {},
   "source": [
    "### 新增說明"
   ]
  },
  {
   "cell_type": "code",
   "execution_count": null,
   "metadata": {},
   "outputs": [],
   "source": [
    "def insert(self, root, val):\n",
    "   \n",
    "        temp=root\n",
    "        while temp!=None:\n",
    "            \n",
    "            if temp.val>= val:\n",
    "                temp_dad=temp\n",
    "                temp=temp.left\n",
    "            else :\n",
    "                temp_dad=temp\n",
    "                temp=temp.right\n",
    "                \n",
    "        temp=TreeNode(val)\n",
    "        if temp_dad.val>=val:\n",
    "            temp_dad.left=temp\n",
    "        else:\n",
    "            temp_dad.right=temp\n",
    "        return temp"
   ]
  },
  {
   "cell_type": "markdown",
   "metadata": {},
   "source": [
    "新增所需變數有兩個：  \n",
    "1.要新增至的樹，所以需要樹根  \n",
    "2.另外一個則是欲增加節點的數值  \n",
    "  \n",
    "最後回傳節點位置"
   ]
  },
  {
   "cell_type": "markdown",
   "metadata": {},
   "source": [
    "對一棵樹新增一個數，理所當然要先找他的爸才能生出小孩  \n",
    "直到爸爸底下他可以出生的位置沒有其他小孩，這個小孩就可以順利生產  \n",
    "最後回傳這個出生位置  "
   ]
  },
  {
   "cell_type": "markdown",
   "metadata": {},
   "source": [
    "### 刪除說明"
   ]
  },
  {
   "cell_type": "code",
   "execution_count": null,
   "metadata": {},
   "outputs": [],
   "source": [
    "def delete(self, root, target):\n",
    "        \n",
    "        temp=root\n",
    "        temp_dad=None\n",
    "        \n",
    "        \n",
    "        while temp!=None:\n",
    "            \n",
    "            if temp.val>target:\n",
    "                temp_dad=temp\n",
    "                temp=temp.left\n",
    "\n",
    "            elif temp.val<target:\n",
    "                temp_dad=temp\n",
    "                temp=temp.right                                \n",
    "            \n",
    "            elif temp.val==target:\n",
    "                if temp_dad is None:\n",
    "                    if temp.left==None:\n",
    "                        root=temp.right\n",
    "                        temp=root\n",
    "                    elif temp.right==None:\n",
    "                        root=temp.left\n",
    "                        temp=root\n",
    "                    else :\n",
    "                        \n",
    "                        left_max=temp.left\n",
    "                        left_max_dad=temp\n",
    "                        while left_max.right!=None:\n",
    "                            left_max_dad=left_max\n",
    "                            left_max=left_max.right\n",
    "                        if left_max.left==None:\n",
    "                            left_max_dad.right=None\n",
    "                        else:\n",
    "                            left_max_dad.right=left_max.left\n",
    "                            \n",
    "                        \n",
    "                        left_max.left=temp.left\n",
    "                        left_max.right=temp.right\n",
    "                        root=left_max\n",
    "                        temp=root\n",
    "                    \n",
    "                    \n",
    "                else:\n",
    "                    if temp.left==None and temp.right==None:\n",
    "                        temp_dad.left=None\n",
    "                        temp=None\n",
    "                    elif temp.left==None:\n",
    "                        temp_dad.left=temp.right\n",
    "                        temp=temp.right\n",
    "                    elif temp.right==None:\n",
    "                        temp_dad.left=temp.left\n",
    "                        temp=temp.left\n",
    "                    else:\n",
    "                        \n",
    "                        left_max=temp.left\n",
    "                        left_max_dad=temp\n",
    "                        while left_max.right!=None:\n",
    "                            left_max_dad=left_max\n",
    "                            left_max=left_max.right\n",
    "                            \n",
    "                        left_max_dad.right=None\n",
    "                        left_max.left=temp.left\n",
    "                        left_max.right=temp.right\n",
    "                        \n",
    "                        if temp_dad.val>target:\n",
    "                            temp_dad.left=left_max\n",
    "                        else:\n",
    "                            temp_dad.right=left_max\n",
    "                        temp=root\n",
    "                                   \n",
    "        return root\n",
    "        \n"
   ]
  },
  {
   "cell_type": "markdown",
   "metadata": {},
   "source": [
    "刪除所需變數有兩個：  \n",
    "1.要刪除節點所在的樹，所以需要樹根  \n",
    "2.另外一個則是欲刪除節點的數值  \n",
    "\n",
    "最後回傳樹根位置（因為樹根有可能被刪除，需回傳新的樹根）"
   ]
  },
  {
   "cell_type": "markdown",
   "metadata": {},
   "source": [
    "當我欲刪除某個數字，必須先找到其節點。  \n",
    "當我要讓他刪除，就要先找到爸爸，  \n",
    "我的做法是為了讓新的樹高不會大於原樹高  \n",
    "所以我將欲刪除的左小孩堆中，找最右邊的小孩  \n",
    "這會是左半邊最大值，他不會有右小孩，最多只有左小孩  \n",
    "若有左小孩，則將他接到爸爸的右邊，若沒有小孩則爸爸右邊則沒有小孩  \n",
    "然後將這個左半邊最大替補至要刪除的小孩位置即可。  "
   ]
  },
  {
   "cell_type": "markdown",
   "metadata": {},
   "source": [
    "### 查詢說明"
   ]
  },
  {
   "cell_type": "code",
   "execution_count": null,
   "metadata": {},
   "outputs": [],
   "source": [
    "def search(self, root, target):\n",
    "        \n",
    "        temp=root\n",
    "        temp_dad=None\n",
    "        \n",
    "        \n",
    "        while temp!=None:\n",
    "            \n",
    "            if temp.val>target:\n",
    "                temp_dad=temp\n",
    "                temp=temp.left\n",
    "\n",
    "            elif temp.val<target:\n",
    "                temp_dad=temp\n",
    "                temp=temp.right                                \n",
    "            \n",
    "            else:\n",
    "                return temp\n",
    "        return None"
   ]
  },
  {
   "cell_type": "markdown",
   "metadata": {},
   "source": [
    "查詢所需變數有兩個：  \n",
    "1.要查詢節點所在的樹，所以需要樹根  \n",
    "2.另外一個則是欲查詢節點的數值  \n",
    "\n",
    "最後回傳查詢位置（若找不到此節點則回傳空值）  "
   ]
  },
  {
   "cell_type": "markdown",
   "metadata": {},
   "source": [
    "根據我要找的節點數字不斷比大小  \n",
    "只有三種狀況，不是在左邊、就是在右邊，要馬這個數字本身就是我要找的節點  \n",
    "所以我就跑一個迴圈，直到這個節點數值和我要找的目標一致  \n",
    "則回傳這個節點給我  "
   ]
  },
  {
   "cell_type": "markdown",
   "metadata": {},
   "source": [
    "### 修改說明"
   ]
  },
  {
   "cell_type": "code",
   "execution_count": null,
   "metadata": {},
   "outputs": [],
   "source": [
    "def modify(self, root, target, new_val):\n",
    "        temp=root\n",
    "        temp_dad=None\n",
    "        k=0\n",
    "        \n",
    "        while temp!=None:\n",
    "            \n",
    "            if temp.val>target:\n",
    "                temp_dad=temp\n",
    "                temp=temp.left\n",
    "\n",
    "            elif temp.val<target:\n",
    "                temp_dad=temp\n",
    "                temp=temp.right                                \n",
    "            \n",
    "            elif temp.val==target:\n",
    "                if temp_dad is None:\n",
    "                    if temp.left==None:\n",
    "                        root=temp.right\n",
    "                        temp=root\n",
    "                    elif temp.right==None:\n",
    "                        root=temp.left\n",
    "                        temp=root\n",
    "                    else :\n",
    "                        \n",
    "                        left_max=temp.left\n",
    "                        left_max_dad=temp\n",
    "                        while left_max.right!=None:\n",
    "                            left_max_dad=left_max\n",
    "                            left_max=left_max.right\n",
    "                            \n",
    "                        left_max_dad.right=None\n",
    "                        left_max.left=temp.left\n",
    "                        left_max.right=temp.right\n",
    "                        root=left_max\n",
    "                        temp=root\n",
    "                            \n",
    "                    \n",
    "                else:\n",
    "                    if temp.left==None and temp.right==None:\n",
    "                        temp_dad.left=None\n",
    "                        temp=None\n",
    "                    elif temp.left==None:\n",
    "                        temp_dad.left=temp.right\n",
    "                        temp=temp.right\n",
    "                    elif temp.right==None:\n",
    "                        temp_dad.left=temp.left\n",
    "                        temp=temp.left\n",
    "                    else:\n",
    "                        \n",
    "                        left_max=temp.left\n",
    "                        left_max_dad=temp\n",
    "                        while left_max.right!=None:\n",
    "                            left_max_dad=left_max\n",
    "                            left_max=left_max.right\n",
    "                            \n",
    "                        left_max_dad.right=None\n",
    "                        left_max.left=temp.left\n",
    "                        left_max.right=temp.right\n",
    "                        \n",
    "                        if temp_dad.val>target:\n",
    "                            temp_dad.left=left_max\n",
    "                        else:\n",
    "                            temp_dad.right=left_max\n",
    "                        temp=root                        \n",
    "                  \n",
    "                k=k+1\n",
    "        while k>0:\n",
    "            self.insert(root,new_val)\n",
    "            k=k-1\n",
    "        return root"
   ]
  },
  {
   "cell_type": "markdown",
   "metadata": {},
   "source": [
    "修改所需變數有三個：  \n",
    "1.要修改節點所在的樹，所以需要樹根  \n",
    "2.另外一個則是欲更改節點的數值  \n",
    "3.最後一個則是欲替換節點的數值  \n",
    "  \n",
    "最後回傳樹根位置（因為樹根有可能被修改，需回傳新的樹根）"
   ]
  },
  {
   "cell_type": "markdown",
   "metadata": {},
   "source": [
    "修改不能直接找到我要替換的值，就直接幫他硬是換一件衣服穿。  \n",
    "所以我覺得修改感覺其實就是等於說把被替換的節點刪除，然後新增要替換的節點。  \n",
    "刪除幾個節點，就要多新增幾個節點。  \n",
    "但我後來發現這樣有可能出現新樹高大於原樹高的情形。  \n",
    "這邊我還沒有做修正，也還在思考修正方法。  "
   ]
  },
  {
   "cell_type": "markdown",
   "metadata": {},
   "source": [
    "## 參考資料"
   ]
  },
  {
   "cell_type": "markdown",
   "metadata": {},
   "source": [
    "這邊是我對於ＢＳＴ認識的資料來源   \n",
    "    \n",
    "\n",
    "10/28-11/3 Binary Tree上課講義：  \n",
    "\n",
    "https://docs.google.com/presentation/d/e/2PACX-1vQgUh73yvSdxAvMH50DHWJ5lsCX8-daMxtoltU9rYW7xCmqYz2A1wOv0Vcx_F9KO5ZUvZBv3IF1TjGi/pub?start=false&loop=false&delayms=3000&slide=id.p   \n",
    "\n",
    "11/11-11/17 Binary Search Tree上課講義：  \n",
    "  \n",
    "https://docs.google.com/presentation/d/e/2PACX-1vSC3P8sGElP48mJTjqT309470SmTFBwJXWsU9hTX2hg5tVpiG4yC703qA7ibPep-Qakmm2Mw_F-ScZh/pub?start=false&loop=false&delayms=3000&slide=id.p\n",
    "  \n",
    "    \n",
    "\n",
    "程式碼的作法則是依照之前linked list的邏輯做出，\n",
    "沒有參考其他網路上現成的程式碼。  \n",
    "針對刪除功能的邏輯有和簡大為做討論，\n",
    "故若刪除功能程式碼與簡大為相似，只因邏輯相同，絕無抄襲。"
   ]
  }
 ],
 "metadata": {
  "kernelspec": {
   "display_name": "Python 3",
   "language": "python",
   "name": "python3"
  },
  "language_info": {
   "codemirror_mode": {
    "name": "ipython",
    "version": 3
   },
   "file_extension": ".py",
   "mimetype": "text/x-python",
   "name": "python",
   "nbconvert_exporter": "python",
   "pygments_lexer": "ipython3",
   "version": "3.7.1"
  }
 },
 "nbformat": 4,
 "nbformat_minor": 2
}
