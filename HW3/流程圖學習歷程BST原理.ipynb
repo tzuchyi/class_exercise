{
 "cells": [
  {
   "cell_type": "markdown",
   "metadata": {},
   "source": [
    "## 流程圖"
   ]
  },
  {
   "cell_type": "markdown",
   "metadata": {},
   "source": [
    "![](https://i.imgur.com/i5DOiFr.jpg)"
   ]
  },
  {
   "cell_type": "markdown",
   "metadata": {},
   "source": [
    "![](https://i.imgur.com/ri00zLh.jpg)"
   ]
  },
  {
   "cell_type": "markdown",
   "metadata": {},
   "source": [
    "![](https://i.imgur.com/TSn6RNk.jpg)"
   ]
  },
  {
   "cell_type": "markdown",
   "metadata": {},
   "source": [
    "![](https://i.imgur.com/9GgmEoN.jpg)"
   ]
  },
  {
   "cell_type": "markdown",
   "metadata": {},
   "source": [
    "## 學習歷程"
   ]
  },
  {
   "cell_type": "code",
   "execution_count": null,
   "metadata": {},
   "outputs": [],
   "source": [
    "class TreeNode(object):\n",
    "    def __init__(self,x):\n",
    "        self.val = x\n",
    "        self.left = None\n",
    "        self.right = None"
   ]
  },
  {
   "cell_type": "markdown",
   "metadata": {},
   "source": [
    "這邊是一開始節點的樣子"
   ]
  },
  {
   "cell_type": "code",
   "execution_count": null,
   "metadata": {},
   "outputs": [],
   "source": [
    "    def insert(self, root, val):\n",
    "   \n",
    "        temp=root\n",
    "        while temp!=None:\n",
    "            \n",
    "            if temp.val>= val:\n",
    "                temp_dad=temp\n",
    "                temp=temp.left\n",
    "            else :\n",
    "                temp_dad=temp\n",
    "                temp=temp.right\n",
    "                \n",
    "        temp=TreeNode(val)\n",
    "        if temp_dad.val>=val:\n",
    "            temp_dad.left=temp\n",
    "        else:\n",
    "            temp_dad.right=temp\n",
    "        return temp\n",
    " "
   ]
  },
  {
   "cell_type": "markdown",
   "metadata": {},
   "source": [
    "後來我蠻順利做出insert的，  \n",
    "就是一直往下找，只要暫時節點不為空就繼續依照要新增的大小往下。  \n",
    "我在尋找空位的同時，也有把爸爸是誰紀錄，  \n",
    "直到找到空位，直接往爸爸底下接著當小孩就完成了。  \n",
    "然後這邊是回傳新增的這個節點"
   ]
  },
  {
   "cell_type": "markdown",
   "metadata": {},
   "source": [
    "接著我要做的事刪除，我下面的作法是我一開始的想法。  \n",
    "後來和簡大為聊了一下，他就直接點破我的邏輯會出現什麼問題。  \n",
    "先來講一下我一開始的作法是什麼"
   ]
  },
  {
   "cell_type": "code",
   "execution_count": null,
   "metadata": {},
   "outputs": [],
   "source": [
    " def delete(self, root, target):\n",
    "        \n",
    "        temp=root\n",
    "        temp_dad=None\n",
    "        \n",
    "        \n",
    "        while temp!=None:\n",
    "            \n",
    "            if temp.val>target:\n",
    "                temp_dad=temp\n",
    "                temp=temp.left\n",
    "\n",
    "            elif temp.val<target:\n",
    "                temp_dad=temp\n",
    "                temp=temp.right                                \n",
    "            \n",
    "            elif temp.val==target:\n",
    "                if temp_dad is None:\n",
    "                    if temp.left==None:\n",
    "                        root=temp.right\n",
    "                        temp=root\n",
    "                    elif temp.right==None:\n",
    "                        root=temp.left\n",
    "                        temp=root\n",
    "                    else :\n",
    "\n",
    "                        root=temp.left\n",
    "                        \n",
    "                        dad=self.insert_dad(root, temp.right.val)\n",
    "                        dad.left=temp.left\n",
    "                        dad.right=temp.right\n",
    "                        temp=root\n",
    "                    \n",
    "                    \n",
    "                else:\n",
    "                    if temp.left==None and temp.right==None:\n",
    "                        temp_dad.left=None\n",
    "                        temp=None\n",
    "                    elif temp.left==None:\n",
    "                        temp_dad.left=temp.right\n",
    "                        temp=temp.right\n",
    "                    elif temp.right==None:\n",
    "                        temp_dad.left=temp.left\n",
    "                        temp=temp.left\n",
    "                    else:\n",
    "                          #    temp=root.left    \n",
    "     #   while temp!=None:\n",
    "      #      temp_dad=root\n",
    "       #     if temp.val==target:\n",
    "         #       if temp.left==None & temp.right==None:\n",
    "           #         temp_dad.left=None\n",
    "             #   elif temp.left==None:\n",
    "               #     temp_dad.left=temp.right\n",
    "         #       elif temp.right==None:\n",
    "           #         temp_dad.left=temp.left\n",
    "             #   else:\n",
    "             #       temp_dad.left=temp.left\n",
    "             #       temp_dad.left.right=temp.right\n",
    "           # temp=temp.left\n",
    "                        temp=root\n",
    "                              \n",
    "        return root\n"
   ]
  },
  {
   "cell_type": "markdown",
   "metadata": {},
   "source": [
    "這邊一樣是先找到要刪除節點的位置，  \n",
    "找到之後就直接把刪除節點底下的小孩，接在刪除節點的爸爸底下。  \n",
    "但是這樣的問題可能會導至新的樹高會比原本的樹高高。  \n",
    "所以和簡大為討論出一個新的方法。"
   ]
  },
  {
   "cell_type": "code",
   "execution_count": null,
   "metadata": {},
   "outputs": [],
   "source": [
    " def delete(self, root, target):\n",
    "        \n",
    "        temp=root\n",
    "        temp_dad=None\n",
    "        \n",
    "        \n",
    "        while temp!=None:\n",
    "            \n",
    "            if temp.val>target:\n",
    "                temp_dad=temp\n",
    "                temp=temp.left\n",
    "\n",
    "            elif temp.val<target:\n",
    "                temp_dad=temp\n",
    "                temp=temp.right                                \n",
    "            \n",
    "            elif temp.val==target:\n",
    "                if temp_dad is None:\n",
    "                    if temp.left==None:\n",
    "                        root=temp.right\n",
    "                        temp=root\n",
    "                    elif temp.right==None:\n",
    "                        root=temp.left\n",
    "                        temp=root\n",
    "                    else :\n",
    "                        \n",
    "                        left_max=temp.left\n",
    "                        left_max_dad=temp\n",
    "                        while left_max.right!=None:\n",
    "                            left_max_dad=left_max\n",
    "                            left_max=left_max.right\n",
    "                        if left_max.left==None:\n",
    "                            left_max_dad.right=None\n",
    "                        else:\n",
    "                            left_max_dad.right=left_max.left\n",
    "                            \n",
    "                    #    left_max_dad.right=None\n",
    "                        left_max.left=temp.left\n",
    "                        left_max.right=temp.right\n",
    "                        root=left_max\n",
    "                        temp=root\n",
    "\n",
    "                    \n",
    "                else:\n",
    "                    if temp.left==None and temp.right==None:\n",
    "                        temp_dad.left=None\n",
    "                        temp=None\n",
    "                    elif temp.left==None:\n",
    "                        temp_dad.left=temp.right\n",
    "                        temp=temp.right\n",
    "                    elif temp.right==None:\n",
    "                        temp_dad.left=temp.left\n",
    "                        temp=temp.left\n",
    "                    else:\n",
    "                        \n",
    "                        left_max=temp.left\n",
    "                        left_max_dad=temp\n",
    "                        while left_max.right!=None:\n",
    "                            left_max_dad=left_max\n",
    "                            left_max=left_max.right\n",
    "                        if left_max.left==None:\n",
    "                            left_max_dad.right=None\n",
    "                        else:\n",
    "                            left_max_dad.right=left_max.left\n",
    "                            \n",
    "                        #left_max_dad.right=None\n",
    "                        left_max.left=temp.left\n",
    "                        left_max.right=temp.right\n",
    "                        \n",
    "                        if temp_dad.val>target:\n",
    "                            temp_dad.left=left_max\n",
    "                        else:\n",
    "                            temp_dad.right=left_max\n",
    "                        temp=root\n",
    "                    \n",
    "        return root\n",
    "        "
   ]
  },
  {
   "cell_type": "markdown",
   "metadata": {},
   "source": [
    "這一次不直接讓底下的節點往上補，  \n",
    "而是選擇刪除節點的左半邊，往右尋找最大值放上去當新的樹根  \n",
    "這樣在右半邊的還是在右半邊，左半邊依然在左半邊，  \n",
    "只要讓他們無縫接軌即可。"
   ]
  },
  {
   "cell_type": "code",
   "execution_count": null,
   "metadata": {},
   "outputs": [],
   "source": [
    " def search(self, root, target):\n",
    "        \n",
    "        temp=root\n",
    "        temp_dad=None\n",
    "        \n",
    "        \n",
    "        while temp!=None:\n",
    "            \n",
    "            if temp.val>target:\n",
    "                temp_dad=temp\n",
    "                temp=temp.left\n",
    "\n",
    "            elif temp.val<target:\n",
    "                temp_dad=temp\n",
    "                temp=temp.right                                \n",
    "            \n",
    "            else:\n",
    "                return temp\n",
    "        return None\n",
    "\n"
   ]
  },
  {
   "cell_type": "markdown",
   "metadata": {},
   "source": [
    "尋找功能就和新增或是刪除的一開始有點像，  \n",
    "只要找到與節點值相同的值就可以了，  \n",
    "如果找不到就回傳空值。  \n",
    "所以這個我也很快就寫好了。"
   ]
  },
  {
   "cell_type": "code",
   "execution_count": null,
   "metadata": {},
   "outputs": [],
   "source": [
    " def modify(self, root, target, new_val):\n",
    "        temp=root\n",
    "        temp_dad=None\n",
    "        k=0\n",
    "        \n",
    "        while temp!=None:\n",
    "            \n",
    "            if temp.val>target:\n",
    "                temp_dad=temp\n",
    "                temp=temp.left\n",
    "\n",
    "            elif temp.val<target:\n",
    "                temp_dad=temp\n",
    "                temp=temp.right                                \n",
    "            \n",
    "            elif temp.val==target:\n",
    "                if temp_dad is None:\n",
    "                    if temp.left==None:\n",
    "                        root=temp.right\n",
    "                        temp=root\n",
    "                    elif temp.right==None:\n",
    "                        root=temp.left\n",
    "                        temp=root\n",
    "                    else :\n",
    "                        \n",
    "                        left_max=temp.left\n",
    "                        left_max_dad=temp\n",
    "                        while left_max.right!=None:\n",
    "                            left_max_dad=left_max\n",
    "                            left_max=left_max.right\n",
    "                            \n",
    "                        left_max_dad.right=None\n",
    "                        left_max.left=temp.left\n",
    "                        left_max.right=temp.right\n",
    "                        root=left_max\n",
    "                        temp=root\n",
    "                            \n",
    "                    \n",
    "                else:\n",
    "                    if temp.left==None and temp.right==None:\n",
    "                        temp_dad.left=None\n",
    "                        temp=None\n",
    "                    elif temp.left==None:\n",
    "                        temp_dad.left=temp.right\n",
    "                        temp=temp.right\n",
    "                    elif temp.right==None:\n",
    "                        temp_dad.left=temp.left\n",
    "                        temp=temp.left\n",
    "                    else:\n",
    "                        \n",
    "                        left_max=temp.left\n",
    "                        left_max_dad=temp\n",
    "                        while left_max.right!=None:\n",
    "                            left_max_dad=left_max\n",
    "                            left_max=left_max.right\n",
    "                            \n",
    "                        left_max_dad.right=None\n",
    "                        left_max.left=temp.left\n",
    "                        left_max.right=temp.right\n",
    "                        \n",
    "                        if temp_dad.val>target:\n",
    "                            temp_dad.left=left_max\n",
    "                        else:\n",
    "                            temp_dad.right=left_max\n",
    "                        temp=root                        \n",
    "                  \n",
    "                k=k+1\n",
    "        while k>0:\n",
    "            self.insert(root,new_val)\n",
    "            k=k-1\n",
    "        return root\n",
    "        \n",
    "        "
   ]
  },
  {
   "cell_type": "markdown",
   "metadata": {},
   "source": [
    "我這邊也寫得很快，因為我對於修改的想法就是，我刪掉幾次再新增回來幾次就好。  \n",
    "所以我直接拷貝刪除程式碼，在有刪除節點的地方加一，我又可以計算總共刪除了幾次。\n",
    "這樣我就可以知道我要新增幾次進我的樹。  \n",
    "但是這樣會遇到高度會大於原本樹高，但是我還沒想到解決辦法，  \n",
    "如果助教你有看到這一段希望你可以告訴我該怎麼辦去解決這個狀況。"
   ]
  },
  {
   "cell_type": "markdown",
   "metadata": {},
   "source": [
    "###### 以下是我的程式碼撰寫過程及測資過程"
   ]
  },
  {
   "cell_type": "code",
   "execution_count": 428,
   "metadata": {},
   "outputs": [],
   "source": [
    "class TreeNode(object):\n",
    "    def __init__(self,x):\n",
    "        self.val = x\n",
    "        self.left = None\n",
    "        self.right = None\n",
    "    \n",
    "\n",
    "class Solution(object):\n",
    "#    def insert_dad(self, root, val):\n",
    "#   \n",
    "#        temp=root\n",
    "#        while temp!=None:\n",
    "#            \n",
    "#            if temp.val>= val:\n",
    "#                temp_dad=temp\n",
    "#                temp=temp.left\n",
    "#            else :\n",
    "#                temp_dad=temp\n",
    "#                temp=temp.right\n",
    "#\n",
    "#        temp=TreeNode(val)\n",
    "#        if temp_dad.val>=val:\n",
    "#            temp_dad.left=temp\n",
    "#        else:\n",
    "#            temp_dad.right=temp\n",
    "#        return temp_dad\n",
    "\n",
    "    def insert(self, root, val):\n",
    "   \n",
    "        temp=root\n",
    "        while temp!=None:\n",
    "            \n",
    "            if temp.val>= val:\n",
    "                temp_dad=temp\n",
    "                temp=temp.left\n",
    "            else :\n",
    "                temp_dad=temp\n",
    "                temp=temp.right\n",
    "                \n",
    "        temp=TreeNode(val)\n",
    "        if temp_dad.val>=val:\n",
    "            temp_dad.left=temp\n",
    "        else:\n",
    "            temp_dad.right=temp\n",
    "        return temp\n",
    " \n",
    "        \n",
    "    def delete(self, root, target):\n",
    "        \n",
    "        temp=root\n",
    "        temp_dad=None\n",
    "        \n",
    "        \n",
    "        while temp!=None:\n",
    "            \n",
    "            if temp.val>target:\n",
    "                temp_dad=temp\n",
    "                temp=temp.left\n",
    "\n",
    "            elif temp.val<target:\n",
    "                temp_dad=temp\n",
    "                temp=temp.right                                \n",
    "            \n",
    "            elif temp.val==target:\n",
    "                if temp_dad is None:\n",
    "                    if temp.left==None:\n",
    "                        root=temp.right\n",
    "                        temp=root\n",
    "                    elif temp.right==None:\n",
    "                        root=temp.left\n",
    "                        temp=root\n",
    "                    else :\n",
    "                        \n",
    "                        left_max=temp.left\n",
    "                        left_max_dad=temp\n",
    "                        while left_max.right!=None:\n",
    "                            left_max_dad=left_max\n",
    "                            left_max=left_max.right\n",
    "                        if left_max.left==None:\n",
    "                            left_max_dad.right=None\n",
    "                        else:\n",
    "                            left_max_dad.right=left_max.left\n",
    "                            \n",
    "                    #    left_max_dad.right=None\n",
    "                        left_max.left=temp.left\n",
    "                        left_max.right=temp.right\n",
    "                        root=left_max\n",
    "                        temp=root\n",
    "\n",
    "                     #   root=temp.left\n",
    "                        \n",
    "                      #  dad=self.insert_dad(root, temp.right.val)\n",
    "                      #  dad.left=temp.left\n",
    "                      #  dad.right=temp.right\n",
    "                     #   temp=root\n",
    "                    \n",
    "                    \n",
    "                else:\n",
    "                    if temp.left==None and temp.right==None:\n",
    "                        temp_dad.left=None\n",
    "                        temp=None\n",
    "                    elif temp.left==None:\n",
    "                        temp_dad.left=temp.right\n",
    "                        temp=temp.right\n",
    "                    elif temp.right==None:\n",
    "                        temp_dad.left=temp.left\n",
    "                        temp=temp.left\n",
    "                    else:\n",
    "                        \n",
    "                        left_max=temp.left\n",
    "                        left_max_dad=temp\n",
    "                        while left_max.right!=None:\n",
    "                            left_max_dad=left_max\n",
    "                            left_max=left_max.right\n",
    "                        if left_max.left==None:\n",
    "                            left_max_dad.right=None\n",
    "                        else:\n",
    "                            left_max_dad.right=left_max.left\n",
    "                            \n",
    "                        #left_max_dad.right=None\n",
    "                        left_max.left=temp.left\n",
    "                        left_max.right=temp.right\n",
    "                        \n",
    "                        if temp_dad.val>target:\n",
    "                            temp_dad.left=left_max\n",
    "                        else:\n",
    "                            temp_dad.right=left_max\n",
    "                        temp=root\n",
    "                        \n",
    "                        \n",
    "                       \n",
    "                        \n",
    "                        \n",
    "            \n",
    "                    \n",
    "        return root\n",
    "        \n",
    "    #    temp=root.left\n",
    "        \n",
    "        \n",
    "     #   while temp!=None:\n",
    "      #      temp_dad=root\n",
    "       #     if temp.val==target:\n",
    "         #       if temp.left==None & temp.right==None:\n",
    "           #         temp_dad.left=None\n",
    "             #   elif temp.left==None:\n",
    "               #     temp_dad.left=temp.right\n",
    "         #       elif temp.right==None:\n",
    "           #         temp_dad.left=temp.left\n",
    "             #   else:\n",
    "             #       temp_dad.left=temp.left\n",
    "             #       temp_dad.left.right=temp.right\n",
    "           # temp=temp.left\n",
    "            \n",
    "            \n",
    "            \n",
    "        \n",
    "       \n",
    "    def search(self, root, target):\n",
    "        \n",
    "        temp=root\n",
    "        temp_dad=None\n",
    "        \n",
    "        \n",
    "        while temp!=None:\n",
    "            \n",
    "            if temp.val>target:\n",
    "                temp_dad=temp\n",
    "                temp=temp.left\n",
    "\n",
    "            elif temp.val<target:\n",
    "                temp_dad=temp\n",
    "                temp=temp.right                                \n",
    "            \n",
    "            else:\n",
    "                return temp\n",
    "        return None\n",
    "\n",
    "        \n",
    "        \n",
    "    def modify(self, root, target, new_val):\n",
    "        temp=root\n",
    "        temp_dad=None\n",
    "        k=0\n",
    "        \n",
    "        while temp!=None:\n",
    "            \n",
    "            if temp.val>target:\n",
    "                temp_dad=temp\n",
    "                temp=temp.left\n",
    "\n",
    "            elif temp.val<target:\n",
    "                temp_dad=temp\n",
    "                temp=temp.right                                \n",
    "            \n",
    "            elif temp.val==target:\n",
    "                if temp_dad is None:\n",
    "                    if temp.left==None:\n",
    "                        root=temp.right\n",
    "                        temp=root\n",
    "                    elif temp.right==None:\n",
    "                        root=temp.left\n",
    "                        temp=root\n",
    "                    else :\n",
    "                        \n",
    "                        left_max=temp.left\n",
    "                        left_max_dad=temp\n",
    "                        while left_max.right!=None:\n",
    "                            left_max_dad=left_max\n",
    "                            left_max=left_max.right\n",
    "                            \n",
    "                        left_max_dad.right=None\n",
    "                        left_max.left=temp.left\n",
    "                        left_max.right=temp.right\n",
    "                        root=left_max\n",
    "                        temp=root\n",
    "                            \n",
    "                    \n",
    "                else:\n",
    "                    if temp.left==None and temp.right==None:\n",
    "                        temp_dad.left=None\n",
    "                        temp=None\n",
    "                    elif temp.left==None:\n",
    "                        temp_dad.left=temp.right\n",
    "                        temp=temp.right\n",
    "                    elif temp.right==None:\n",
    "                        temp_dad.left=temp.left\n",
    "                        temp=temp.left\n",
    "                    else:\n",
    "                        \n",
    "                        left_max=temp.left\n",
    "                        left_max_dad=temp\n",
    "                        while left_max.right!=None:\n",
    "                            left_max_dad=left_max\n",
    "                            left_max=left_max.right\n",
    "                            \n",
    "                        left_max_dad.right=None\n",
    "                        left_max.left=temp.left\n",
    "                        left_max.right=temp.right\n",
    "                        \n",
    "                        if temp_dad.val>target:\n",
    "                            temp_dad.left=left_max\n",
    "                        else:\n",
    "                            temp_dad.right=left_max\n",
    "                        temp=root                        \n",
    "                  \n",
    "                k=k+1\n",
    "        while k>0:\n",
    "            self.insert(root,new_val)\n",
    "            k=k-1\n",
    "        return root\n",
    "        \n",
    "        \n"
   ]
  },
  {
   "cell_type": "code",
   "execution_count": 429,
   "metadata": {},
   "outputs": [],
   "source": [
    "root=TreeNode(5)"
   ]
  },
  {
   "cell_type": "code",
   "execution_count": 430,
   "metadata": {},
   "outputs": [],
   "source": [
    "root.left=TreeNode(3)"
   ]
  },
  {
   "cell_type": "code",
   "execution_count": 431,
   "metadata": {},
   "outputs": [],
   "source": [
    "root.left.left=TreeNode(3)"
   ]
  },
  {
   "cell_type": "code",
   "execution_count": 432,
   "metadata": {},
   "outputs": [],
   "source": [
    "root.left.left.left=TreeNode(-5)"
   ]
  },
  {
   "cell_type": "code",
   "execution_count": 433,
   "metadata": {},
   "outputs": [],
   "source": [
    "root.right=TreeNode(8)"
   ]
  },
  {
   "cell_type": "code",
   "execution_count": 434,
   "metadata": {},
   "outputs": [],
   "source": [
    "root.right.left=TreeNode(7)"
   ]
  },
  {
   "cell_type": "code",
   "execution_count": 435,
   "metadata": {},
   "outputs": [],
   "source": [
    "root.right.right=TreeNode(10)"
   ]
  },
  {
   "cell_type": "code",
   "execution_count": 436,
   "metadata": {},
   "outputs": [],
   "source": [
    "root.right.left.left=TreeNode(6)"
   ]
  },
  {
   "cell_type": "code",
   "execution_count": 394,
   "metadata": {},
   "outputs": [],
   "source": [
    "root=Solution().modify(root,3,6)"
   ]
  },
  {
   "cell_type": "code",
   "execution_count": 400,
   "metadata": {},
   "outputs": [
    {
     "data": {
      "text/plain": [
       "True"
      ]
     },
     "execution_count": 400,
     "metadata": {},
     "output_type": "execute_result"
    }
   ],
   "source": [
    "root.right.left.left.left.left.left==None"
   ]
  },
  {
   "cell_type": "code",
   "execution_count": 438,
   "metadata": {},
   "outputs": [
    {
     "data": {
      "text/plain": [
       "True"
      ]
     },
     "execution_count": 438,
     "metadata": {},
     "output_type": "execute_result"
    }
   ],
   "source": [
    "Solution().search(root,100)==None"
   ]
  },
  {
   "cell_type": "code",
   "execution_count": 410,
   "metadata": {},
   "outputs": [],
   "source": [
    "root_delete=Solution().delete(root,3)"
   ]
  },
  {
   "cell_type": "code",
   "execution_count": 411,
   "metadata": {},
   "outputs": [
    {
     "data": {
      "text/plain": [
       "-5"
      ]
     },
     "execution_count": 411,
     "metadata": {},
     "output_type": "execute_result"
    }
   ],
   "source": [
    "root_delete.left.val"
   ]
  },
  {
   "cell_type": "code",
   "execution_count": 358,
   "metadata": {},
   "outputs": [],
   "source": [
    "#modify"
   ]
  },
  {
   "cell_type": "code",
   "execution_count": 359,
   "metadata": {},
   "outputs": [],
   "source": [
    "root=Solution().modify(root,7,4)"
   ]
  },
  {
   "cell_type": "code",
   "execution_count": 360,
   "metadata": {},
   "outputs": [
    {
     "data": {
      "text/plain": [
       "6"
      ]
     },
     "execution_count": 360,
     "metadata": {},
     "output_type": "execute_result"
    }
   ],
   "source": [
    "root.right.left.val"
   ]
  },
  {
   "cell_type": "code",
   "execution_count": 361,
   "metadata": {},
   "outputs": [
    {
     "data": {
      "text/plain": [
       "4"
      ]
     },
     "execution_count": 361,
     "metadata": {},
     "output_type": "execute_result"
    }
   ],
   "source": [
    "root.left.right.val"
   ]
  },
  {
   "cell_type": "code",
   "execution_count": 244,
   "metadata": {},
   "outputs": [],
   "source": [
    "#search"
   ]
  },
  {
   "cell_type": "code",
   "execution_count": 245,
   "metadata": {},
   "outputs": [
    {
     "data": {
      "text/plain": [
       "True"
      ]
     },
     "execution_count": 245,
     "metadata": {},
     "output_type": "execute_result"
    }
   ],
   "source": [
    "Solution().search(root,10)==root.right.right"
   ]
  },
  {
   "cell_type": "code",
   "execution_count": 412,
   "metadata": {},
   "outputs": [
    {
     "data": {
      "text/plain": [
       "<__main__.TreeNode at 0x1092f9b00>"
      ]
     },
     "execution_count": 412,
     "metadata": {},
     "output_type": "execute_result"
    }
   ],
   "source": [
    "root = TreeNode(17)\n",
    "Solution().insert(root, 10)\n",
    "Solution().insert(root, 20)\n",
    "\n",
    "Solution().insert(root, 8)\n",
    "Solution().insert(root, 13)\n",
    "\n",
    "Solution().insert(root, 4)\n",
    "Solution().insert(root, 9)\n",
    "\n",
    "Solution().insert(root, 3)\n",
    "Solution().insert(root, 4.5)\n",
    "Solution().insert(root, 8.8)\n",
    "Solution().insert(root, 9.9)\n",
    "\n",
    "Solution().insert(root, 4.4)\n",
    "Solution().insert(root, 4.7)\n",
    "Solution().insert(root, 9.5)\n",
    "Solution().insert(root, 9.99)"
   ]
  },
  {
   "cell_type": "code",
   "execution_count": 413,
   "metadata": {},
   "outputs": [],
   "source": [
    "root_delete=Solution().delete(root,8)"
   ]
  },
  {
   "cell_type": "code",
   "execution_count": 414,
   "metadata": {},
   "outputs": [
    {
     "data": {
      "text/plain": [
       "4.7"
      ]
     },
     "execution_count": 414,
     "metadata": {},
     "output_type": "execute_result"
    }
   ],
   "source": [
    "root_delete.left.left.val"
   ]
  },
  {
   "cell_type": "code",
   "execution_count": 327,
   "metadata": {},
   "outputs": [],
   "source": [
    "Solution().search(root,13)"
   ]
  },
  {
   "cell_type": "code",
   "execution_count": 227,
   "metadata": {},
   "outputs": [],
   "source": [
    "#delete"
   ]
  },
  {
   "cell_type": "code",
   "execution_count": 423,
   "metadata": {},
   "outputs": [],
   "source": [
    "root_delete=Solution().delete(root,3)"
   ]
  },
  {
   "cell_type": "code",
   "execution_count": 440,
   "metadata": {},
   "outputs": [
    {
     "data": {
      "text/plain": [
       "True"
      ]
     },
     "execution_count": 440,
     "metadata": {},
     "output_type": "execute_result"
    }
   ],
   "source": [
    "root_delete.val==5 and root_delete.left.val==-5 and root_delete.left.left==None and root_delete.left.right==None"
   ]
  },
  {
   "cell_type": "code",
   "execution_count": 425,
   "metadata": {},
   "outputs": [
    {
     "data": {
      "text/plain": [
       "True"
      ]
     },
     "execution_count": 425,
     "metadata": {},
     "output_type": "execute_result"
    }
   ],
   "source": [
    "root_delete.right.right.val==10 and root_delete.right.left.val==7 and root_delete.right.left.left.val==6"
   ]
  },
  {
   "cell_type": "code",
   "execution_count": 426,
   "metadata": {},
   "outputs": [
    {
     "data": {
      "text/plain": [
       "True"
      ]
     },
     "execution_count": 426,
     "metadata": {},
     "output_type": "execute_result"
    }
   ],
   "source": [
    "root_delete.right.right.right==None and root_delete.right.right.left==None and root_delete.right.left.right==None"
   ]
  },
  {
   "cell_type": "code",
   "execution_count": 427,
   "metadata": {},
   "outputs": [
    {
     "data": {
      "text/plain": [
       "True"
      ]
     },
     "execution_count": 427,
     "metadata": {},
     "output_type": "execute_result"
    }
   ],
   "source": [
    "root_delete.right.left.left.left==None and root_delete.right.left.left.right==None and root_delete.right.val==8"
   ]
  },
  {
   "cell_type": "code",
   "execution_count": 233,
   "metadata": {},
   "outputs": [],
   "source": [
    "#insert"
   ]
  },
  {
   "cell_type": "code",
   "execution_count": 255,
   "metadata": {},
   "outputs": [
    {
     "data": {
      "text/plain": [
       "True"
      ]
     },
     "execution_count": 255,
     "metadata": {},
     "output_type": "execute_result"
    }
   ],
   "source": [
    "Solution().insert(root,4)==root.left.right"
   ]
  },
  {
   "cell_type": "markdown",
   "metadata": {},
   "source": [
    "## BST原理"
   ]
  },
  {
   "cell_type": "markdown",
   "metadata": {},
   "source": [
    "首先BST是一種資料結構，他是Binary Tree的延伸。  \n",
    "樹根居中，左子樹較小或相等，右子樹較大，然後遞迴分割下去。  \n",
    "所以不會出現左子樹的值比右子樹的值大的情況。  \n",
    "最小節點就會出現在最左端，反之最大節點出現在最右端。  \n",
    "然後每一個節點只會底下只會有兩個小孩，一個比自己大，一個比自己小。"
   ]
  },
  {
   "cell_type": "markdown",
   "metadata": {},
   "source": [
    "## 參考資料"
   ]
  },
  {
   "cell_type": "markdown",
   "metadata": {},
   "source": [
    "這邊是我對於ＢＳＴ認識的資料來源  \n",
    "\n",
    "10/28-11/3 Binary Tree上課講義：  \n",
    "https://docs.google.com/presentation/d/e/2PACX-1vQgUh73yvSdxAvMH50DHWJ5lsCX8-daMxtoltU9rYW7xCmqYz2A1wOv0Vcx_F9KO5ZUvZBv3IF1TjGi/pub?start=false&loop=false&delayms=3000&slide=id.p  \n",
    "11/11-11/17 Binary Search Tree上課講義：  \n",
    "https://docs.google.com/presentation/d/e/2PACX-1vSC3P8sGElP48mJTjqT309470SmTFBwJXWsU9hTX2hg5tVpiG4yC703qA7ibPep-Qakmm2Mw_F-ScZh/pub?start=false&loop=false&delayms=3000&slide=id.p  \n",
    "\n",
    "程式碼的作法則是依照之前linked list的邏輯做出，\n",
    "沒有參考其他網路上現成的程式碼。  \n",
    "針對刪除功能的邏輯有和簡大為做討論，\n",
    "故若刪除功能程式碼與簡大為相似，只因邏輯相同，絕無抄襲。\n",
    "  \n",
    "BST原理認識的資料來源  \n",
    "http://www.csie.ntnu.edu.tw/~u91029/Order.html"
   ]
  }
 ],
 "metadata": {
  "kernelspec": {
   "display_name": "Python 3",
   "language": "python",
   "name": "python3"
  },
  "language_info": {
   "codemirror_mode": {
    "name": "ipython",
    "version": 3
   },
   "file_extension": ".py",
   "mimetype": "text/x-python",
   "name": "python",
   "nbconvert_exporter": "python",
   "pygments_lexer": "ipython3",
   "version": "3.7.1"
  }
 },
 "nbformat": 4,
 "nbformat_minor": 2
}
